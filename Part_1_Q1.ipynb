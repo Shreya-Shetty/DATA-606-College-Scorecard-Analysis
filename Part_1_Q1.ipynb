{
  "nbformat": 4,
  "nbformat_minor": 0,
  "metadata": {
    "colab": {
      "name": "Part 1-Q1.ipynb",
      "provenance": [],
      "collapsed_sections": []
    },
    "kernelspec": {
      "name": "python3",
      "display_name": "Python 3"
    }
  },
  "cells": [
    {
      "cell_type": "code",
      "metadata": {
        "id": "8rHySKSKkQ8L"
      },
      "source": [
        "import pandas as pd\n",
        "import numpy as np"
      ],
      "execution_count": null,
      "outputs": []
    },
    {
      "cell_type": "code",
      "metadata": {
        "colab": {
          "base_uri": "https://localhost:8080/"
        },
        "id": "lrZV_B_sb8zp",
        "outputId": "069f6932-afc1-40bb-b757-c151b1fbb8f9"
      },
      "source": [
        "from google.colab import drive\n",
        "drive.mount('/content/drive')"
      ],
      "execution_count": null,
      "outputs": [
        {
          "output_type": "stream",
          "text": [
            "Mounted at /content/drive\n"
          ],
          "name": "stdout"
        }
      ]
    },
    {
      "cell_type": "code",
      "metadata": {
        "id": "2zqii9XMkC9t"
      },
      "source": [
        "college_df = pd.read_csv(r'/content/drive/My Drive/DATA 606/Final.csv')"
      ],
      "execution_count": null,
      "outputs": []
    },
    {
      "cell_type": "code",
      "metadata": {
        "colab": {
          "base_uri": "https://localhost:8080/",
          "height": 484
        },
        "id": "I9Fo2SQ0kN70",
        "outputId": "dd451005-e125-4c74-9593-12782b19ca34"
      },
      "source": [
        "college_df.head()"
      ],
      "execution_count": null,
      "outputs": [
        {
          "output_type": "execute_result",
          "data": {
            "text/html": [
              "<div>\n",
              "<style scoped>\n",
              "    .dataframe tbody tr th:only-of-type {\n",
              "        vertical-align: middle;\n",
              "    }\n",
              "\n",
              "    .dataframe tbody tr th {\n",
              "        vertical-align: top;\n",
              "    }\n",
              "\n",
              "    .dataframe thead th {\n",
              "        text-align: right;\n",
              "    }\n",
              "</style>\n",
              "<table border=\"1\" class=\"dataframe\">\n",
              "  <thead>\n",
              "    <tr style=\"text-align: right;\">\n",
              "      <th></th>\n",
              "      <th>Unnamed: 0</th>\n",
              "      <th>Unnamed: 0.1</th>\n",
              "      <th>UNITID</th>\n",
              "      <th>OPEID6</th>\n",
              "      <th>INSTNM</th>\n",
              "      <th>CONTROL</th>\n",
              "      <th>MAIN</th>\n",
              "      <th>CIPCODE</th>\n",
              "      <th>CIPDESC</th>\n",
              "      <th>CREDLEV</th>\n",
              "      <th>CREDDESC</th>\n",
              "      <th>COUNT</th>\n",
              "      <th>DEBTMEDIAN</th>\n",
              "      <th>DEBTPAYMENT10YR</th>\n",
              "      <th>DEBTMEAN</th>\n",
              "      <th>TITLEIVCOUNT</th>\n",
              "      <th>EARNINGSCOUNT</th>\n",
              "      <th>MD_EARN_WNE</th>\n",
              "      <th>IPEDSCOUNT1</th>\n",
              "      <th>IPEDSCOUNT2</th>\n",
              "      <th>CITY</th>\n",
              "      <th>STATE</th>\n",
              "      <th>ZIP</th>\n",
              "      <th>TUITFTE</th>\n",
              "      <th>INEXPFTE</th>\n",
              "      <th>ACCREDAGENCY</th>\n",
              "      <th>FTFTPCTPELL</th>\n",
              "      <th>cost_living_index_2020</th>\n",
              "      <th>relative_value_dollar_2017</th>\n",
              "      <th>national_rank</th>\n",
              "    </tr>\n",
              "  </thead>\n",
              "  <tbody>\n",
              "    <tr>\n",
              "      <th>0</th>\n",
              "      <td>0</td>\n",
              "      <td>62</td>\n",
              "      <td>100663.0</td>\n",
              "      <td>1052</td>\n",
              "      <td>University of Alabama at Birmingham</td>\n",
              "      <td>Public</td>\n",
              "      <td>1</td>\n",
              "      <td>901</td>\n",
              "      <td>Communication and Media Studies.</td>\n",
              "      <td>3</td>\n",
              "      <td>Bachelors Degree</td>\n",
              "      <td>86</td>\n",
              "      <td>21474</td>\n",
              "      <td>223</td>\n",
              "      <td>21667</td>\n",
              "      <td>92</td>\n",
              "      <td>84</td>\n",
              "      <td>26300</td>\n",
              "      <td>80.0</td>\n",
              "      <td>85.0</td>\n",
              "      <td>Birmingham</td>\n",
              "      <td>AL</td>\n",
              "      <td>35294-0110</td>\n",
              "      <td>13177.0</td>\n",
              "      <td>16454.0</td>\n",
              "      <td>Southern Association of Colleges and Schools C...</td>\n",
              "      <td>0.3788</td>\n",
              "      <td>89.4</td>\n",
              "      <td>115.34</td>\n",
              "      <td>71.0</td>\n",
              "    </tr>\n",
              "    <tr>\n",
              "      <th>1</th>\n",
              "      <td>1</td>\n",
              "      <td>64</td>\n",
              "      <td>100663.0</td>\n",
              "      <td>1052</td>\n",
              "      <td>University of Alabama at Birmingham</td>\n",
              "      <td>Public</td>\n",
              "      <td>1</td>\n",
              "      <td>1101</td>\n",
              "      <td>Computer and Information Sciences, General.</td>\n",
              "      <td>3</td>\n",
              "      <td>Bachelors Degree</td>\n",
              "      <td>36</td>\n",
              "      <td>27750</td>\n",
              "      <td>288</td>\n",
              "      <td>25889</td>\n",
              "      <td>34</td>\n",
              "      <td>34</td>\n",
              "      <td>56900</td>\n",
              "      <td>30.0</td>\n",
              "      <td>35.0</td>\n",
              "      <td>Birmingham</td>\n",
              "      <td>AL</td>\n",
              "      <td>35294-0110</td>\n",
              "      <td>13177.0</td>\n",
              "      <td>16454.0</td>\n",
              "      <td>Southern Association of Colleges and Schools C...</td>\n",
              "      <td>0.3788</td>\n",
              "      <td>89.4</td>\n",
              "      <td>115.34</td>\n",
              "      <td>71.0</td>\n",
              "    </tr>\n",
              "    <tr>\n",
              "      <th>2</th>\n",
              "      <td>2</td>\n",
              "      <td>69</td>\n",
              "      <td>100663.0</td>\n",
              "      <td>1052</td>\n",
              "      <td>University of Alabama at Birmingham</td>\n",
              "      <td>Public</td>\n",
              "      <td>1</td>\n",
              "      <td>1304</td>\n",
              "      <td>Educational Administration and Supervision.</td>\n",
              "      <td>5</td>\n",
              "      <td>Master's Degree</td>\n",
              "      <td>41</td>\n",
              "      <td>22601</td>\n",
              "      <td>263</td>\n",
              "      <td>25440</td>\n",
              "      <td>48</td>\n",
              "      <td>48</td>\n",
              "      <td>50500</td>\n",
              "      <td>58.0</td>\n",
              "      <td>11.0</td>\n",
              "      <td>Birmingham</td>\n",
              "      <td>AL</td>\n",
              "      <td>35294-0110</td>\n",
              "      <td>13177.0</td>\n",
              "      <td>16454.0</td>\n",
              "      <td>Southern Association of Colleges and Schools C...</td>\n",
              "      <td>0.3788</td>\n",
              "      <td>89.4</td>\n",
              "      <td>115.34</td>\n",
              "      <td>71.0</td>\n",
              "    </tr>\n",
              "    <tr>\n",
              "      <th>3</th>\n",
              "      <td>3</td>\n",
              "      <td>72</td>\n",
              "      <td>100663.0</td>\n",
              "      <td>1052</td>\n",
              "      <td>University of Alabama at Birmingham</td>\n",
              "      <td>Public</td>\n",
              "      <td>1</td>\n",
              "      <td>1304</td>\n",
              "      <td>Educational Administration and Supervision.</td>\n",
              "      <td>8</td>\n",
              "      <td>Graduate/Professional Certificate</td>\n",
              "      <td>22</td>\n",
              "      <td>57346</td>\n",
              "      <td>668</td>\n",
              "      <td>56814</td>\n",
              "      <td>22</td>\n",
              "      <td>22</td>\n",
              "      <td>57200</td>\n",
              "      <td>28.0</td>\n",
              "      <td>7.0</td>\n",
              "      <td>Birmingham</td>\n",
              "      <td>AL</td>\n",
              "      <td>35294-0110</td>\n",
              "      <td>13177.0</td>\n",
              "      <td>16454.0</td>\n",
              "      <td>Southern Association of Colleges and Schools C...</td>\n",
              "      <td>0.3788</td>\n",
              "      <td>89.4</td>\n",
              "      <td>115.34</td>\n",
              "      <td>71.0</td>\n",
              "    </tr>\n",
              "    <tr>\n",
              "      <th>4</th>\n",
              "      <td>4</td>\n",
              "      <td>73</td>\n",
              "      <td>100663.0</td>\n",
              "      <td>1052</td>\n",
              "      <td>University of Alabama at Birmingham</td>\n",
              "      <td>Public</td>\n",
              "      <td>1</td>\n",
              "      <td>1310</td>\n",
              "      <td>Special Education and Teaching.</td>\n",
              "      <td>5</td>\n",
              "      <td>Master's Degree</td>\n",
              "      <td>36</td>\n",
              "      <td>28218</td>\n",
              "      <td>329</td>\n",
              "      <td>28717</td>\n",
              "      <td>27</td>\n",
              "      <td>27</td>\n",
              "      <td>43700</td>\n",
              "      <td>29.0</td>\n",
              "      <td>28.0</td>\n",
              "      <td>Birmingham</td>\n",
              "      <td>AL</td>\n",
              "      <td>35294-0110</td>\n",
              "      <td>13177.0</td>\n",
              "      <td>16454.0</td>\n",
              "      <td>Southern Association of Colleges and Schools C...</td>\n",
              "      <td>0.3788</td>\n",
              "      <td>89.4</td>\n",
              "      <td>115.34</td>\n",
              "      <td>71.0</td>\n",
              "    </tr>\n",
              "  </tbody>\n",
              "</table>\n",
              "</div>"
            ],
            "text/plain": [
              "   Unnamed: 0  Unnamed: 0.1  ...  relative_value_dollar_2017  national_rank\n",
              "0           0            62  ...                      115.34           71.0\n",
              "1           1            64  ...                      115.34           71.0\n",
              "2           2            69  ...                      115.34           71.0\n",
              "3           3            72  ...                      115.34           71.0\n",
              "4           4            73  ...                      115.34           71.0\n",
              "\n",
              "[5 rows x 30 columns]"
            ]
          },
          "metadata": {
            "tags": []
          },
          "execution_count": 4
        }
      ]
    },
    {
      "cell_type": "code",
      "metadata": {
        "id": "C9EQ6tqskTq0"
      },
      "source": [
        "del college_df['Unnamed: 0.1']\n",
        "del college_df['Unnamed: 0']"
      ],
      "execution_count": null,
      "outputs": []
    },
    {
      "cell_type": "code",
      "metadata": {
        "colab": {
          "base_uri": "https://localhost:8080/"
        },
        "id": "7UEQHrbsSquL",
        "outputId": "9844b9f8-a063-4197-de77-e903baf73372"
      },
      "source": [
        "college_df.isna().sum()"
      ],
      "execution_count": null,
      "outputs": [
        {
          "output_type": "execute_result",
          "data": {
            "text/plain": [
              "UNITID                         0\n",
              "OPEID6                         0\n",
              "INSTNM                         0\n",
              "CONTROL                        0\n",
              "MAIN                           0\n",
              "CIPCODE                        0\n",
              "CIPDESC                        0\n",
              "CREDLEV                        0\n",
              "CREDDESC                       0\n",
              "COUNT                          0\n",
              "DEBTMEDIAN                     0\n",
              "DEBTPAYMENT10YR                0\n",
              "DEBTMEAN                       0\n",
              "TITLEIVCOUNT                   0\n",
              "EARNINGSCOUNT                  0\n",
              "MD_EARN_WNE                    0\n",
              "IPEDSCOUNT1                   10\n",
              "IPEDSCOUNT2                   20\n",
              "CITY                           0\n",
              "STATE                          0\n",
              "ZIP                            0\n",
              "TUITFTE                        0\n",
              "INEXPFTE                       0\n",
              "ACCREDAGENCY                   0\n",
              "FTFTPCTPELL                   68\n",
              "cost_living_index_2020         0\n",
              "relative_value_dollar_2017     0\n",
              "national_rank                  0\n",
              "dtype: int64"
            ]
          },
          "metadata": {
            "tags": []
          },
          "execution_count": 6
        }
      ]
    },
    {
      "cell_type": "markdown",
      "metadata": {
        "id": "lvHufcepn4o1"
      },
      "source": [
        "Q1. It is a general belief that studying at the main campus will give the students better work opportunities and leave them with less debt. Is this true?"
      ]
    },
    {
      "cell_type": "code",
      "metadata": {
        "id": "8--2es-dkcLK"
      },
      "source": [
        "from sklearn.model_selection import train_test_split\n",
        "from sklearn.svm import SVR\n",
        "from sklearn import metrics\n",
        "from sklearn.metrics import classification_report\n",
        "from sklearn.metrics import r2_score,mean_squared_error\n",
        "import matplotlib.pyplot as plt"
      ],
      "execution_count": null,
      "outputs": []
    },
    {
      "cell_type": "code",
      "metadata": {
        "id": "DBVV0vk5oPSq"
      },
      "source": [
        "X=college_df[['MAIN','MD_EARN_WNE', 'national_rank']]\n",
        "\n",
        "#X=college_df[['MAIN','MD_EARN_WNE', 'national_rank','DEBTMEAN']]\n",
        "#X=college_df[['MAIN','MD_EARN_WNE', 'national_rank','DEBTMEAN','CREDLEV','COUNT']]"
      ],
      "execution_count": null,
      "outputs": []
    },
    {
      "cell_type": "code",
      "metadata": {
        "colab": {
          "base_uri": "https://localhost:8080/",
          "height": 194
        },
        "id": "r6dj2zIxcByB",
        "outputId": "b22b21eb-df5c-43ea-fc27-8305ccf6dd77"
      },
      "source": [
        "X.head()"
      ],
      "execution_count": null,
      "outputs": [
        {
          "output_type": "execute_result",
          "data": {
            "text/html": [
              "<div>\n",
              "<style scoped>\n",
              "    .dataframe tbody tr th:only-of-type {\n",
              "        vertical-align: middle;\n",
              "    }\n",
              "\n",
              "    .dataframe tbody tr th {\n",
              "        vertical-align: top;\n",
              "    }\n",
              "\n",
              "    .dataframe thead th {\n",
              "        text-align: right;\n",
              "    }\n",
              "</style>\n",
              "<table border=\"1\" class=\"dataframe\">\n",
              "  <thead>\n",
              "    <tr style=\"text-align: right;\">\n",
              "      <th></th>\n",
              "      <th>MAIN</th>\n",
              "      <th>MD_EARN_WNE</th>\n",
              "      <th>national_rank</th>\n",
              "    </tr>\n",
              "  </thead>\n",
              "  <tbody>\n",
              "    <tr>\n",
              "      <th>0</th>\n",
              "      <td>1</td>\n",
              "      <td>26300</td>\n",
              "      <td>71.0</td>\n",
              "    </tr>\n",
              "    <tr>\n",
              "      <th>1</th>\n",
              "      <td>1</td>\n",
              "      <td>56900</td>\n",
              "      <td>71.0</td>\n",
              "    </tr>\n",
              "    <tr>\n",
              "      <th>2</th>\n",
              "      <td>1</td>\n",
              "      <td>50500</td>\n",
              "      <td>71.0</td>\n",
              "    </tr>\n",
              "    <tr>\n",
              "      <th>3</th>\n",
              "      <td>1</td>\n",
              "      <td>57200</td>\n",
              "      <td>71.0</td>\n",
              "    </tr>\n",
              "    <tr>\n",
              "      <th>4</th>\n",
              "      <td>1</td>\n",
              "      <td>43700</td>\n",
              "      <td>71.0</td>\n",
              "    </tr>\n",
              "  </tbody>\n",
              "</table>\n",
              "</div>"
            ],
            "text/plain": [
              "   MAIN  MD_EARN_WNE  national_rank\n",
              "0     1        26300           71.0\n",
              "1     1        56900           71.0\n",
              "2     1        50500           71.0\n",
              "3     1        57200           71.0\n",
              "4     1        43700           71.0"
            ]
          },
          "metadata": {
            "tags": []
          },
          "execution_count": 48
        }
      ]
    },
    {
      "cell_type": "code",
      "metadata": {
        "id": "WY1pDx9WpK59"
      },
      "source": [
        "Y=college_df['DEBTMEDIAN']"
      ],
      "execution_count": null,
      "outputs": []
    },
    {
      "cell_type": "code",
      "metadata": {
        "colab": {
          "base_uri": "https://localhost:8080/"
        },
        "id": "2zaWyTZgp8v1",
        "outputId": "746f0b55-3057-4abc-d3d8-2add5b96fff1"
      },
      "source": [
        "Y.head()"
      ],
      "execution_count": null,
      "outputs": [
        {
          "output_type": "execute_result",
          "data": {
            "text/plain": [
              "0    21474\n",
              "1    27750\n",
              "2    22601\n",
              "3    57346\n",
              "4    28218\n",
              "Name: DEBTMEDIAN, dtype: int64"
            ]
          },
          "metadata": {
            "tags": []
          },
          "execution_count": 10
        }
      ]
    },
    {
      "cell_type": "code",
      "metadata": {
        "id": "q-grSc6vpvPc"
      },
      "source": [
        "# Split the data into Trainging and Testing sets\n",
        "X_train, X_test, Y_train, Y_test = train_test_split(X, Y,test_size = 0.30,random_state =42)"
      ],
      "execution_count": null,
      "outputs": []
    },
    {
      "cell_type": "code",
      "metadata": {
        "id": "UiJpge5OqIif"
      },
      "source": [
        "svr_model=SVR()"
      ],
      "execution_count": null,
      "outputs": []
    },
    {
      "cell_type": "code",
      "metadata": {
        "id": "-nqQT2z4bwiC",
        "colab": {
          "base_uri": "https://localhost:8080/"
        },
        "outputId": "72093bb3-f57e-48d7-a6b5-65a4ad5863d9"
      },
      "source": [
        "svr_model.fit(X_train,Y_train)"
      ],
      "execution_count": null,
      "outputs": [
        {
          "output_type": "execute_result",
          "data": {
            "text/plain": [
              "SVR(C=1.0, cache_size=200, coef0=0.0, degree=3, epsilon=0.1, gamma='scale',\n",
              "    kernel='rbf', max_iter=-1, shrinking=True, tol=0.001, verbose=False)"
            ]
          },
          "metadata": {
            "tags": []
          },
          "execution_count": 13
        }
      ]
    },
    {
      "cell_type": "code",
      "metadata": {
        "colab": {
          "base_uri": "https://localhost:8080/"
        },
        "id": "wjz1_I4qcqJK",
        "outputId": "02cf5fc4-8e08-402e-8472-29c72f46e143"
      },
      "source": [
        "y_pred=svr_model.predict(X_test)\n",
        "y_pred"
      ],
      "execution_count": null,
      "outputs": [
        {
          "output_type": "execute_result",
          "data": {
            "text/plain": [
              "array([24546.75117567, 24502.19652251, 24553.35971021, ...,\n",
              "       25196.67364112, 24478.45519005, 24580.37902642])"
            ]
          },
          "metadata": {
            "tags": []
          },
          "execution_count": 14
        }
      ]
    },
    {
      "cell_type": "code",
      "metadata": {
        "id": "ZtNJ5YzCmJxb"
      },
      "source": [
        ""
      ],
      "execution_count": null,
      "outputs": []
    },
    {
      "cell_type": "markdown",
      "metadata": {
        "id": "jBEb38S3mb7k"
      },
      "source": [
        "Without main campus feature"
      ]
    },
    {
      "cell_type": "code",
      "metadata": {
        "id": "a0PXOAsBmfVQ"
      },
      "source": [
        "X1=college_df[['MD_EARN_WNE', 'national_rank']]\n",
        "\n",
        "#X1=college_df[['MD_EARN_WNE', 'national_rank','DEBTMEAN']]\n",
        "#X1=college_df[['MD_EARN_WNE', 'national_rank','DEBTMEAN','CREDLEV','COUNT']]"
      ],
      "execution_count": null,
      "outputs": []
    },
    {
      "cell_type": "code",
      "metadata": {
        "colab": {
          "base_uri": "https://localhost:8080/",
          "height": 197
        },
        "id": "TmVNR0yncJsf",
        "outputId": "8faa600a-f19e-4049-cafa-6f6231e8b9c5"
      },
      "source": [
        "X1.head()"
      ],
      "execution_count": null,
      "outputs": [
        {
          "output_type": "execute_result",
          "data": {
            "text/html": [
              "<div>\n",
              "<style scoped>\n",
              "    .dataframe tbody tr th:only-of-type {\n",
              "        vertical-align: middle;\n",
              "    }\n",
              "\n",
              "    .dataframe tbody tr th {\n",
              "        vertical-align: top;\n",
              "    }\n",
              "\n",
              "    .dataframe thead th {\n",
              "        text-align: right;\n",
              "    }\n",
              "</style>\n",
              "<table border=\"1\" class=\"dataframe\">\n",
              "  <thead>\n",
              "    <tr style=\"text-align: right;\">\n",
              "      <th></th>\n",
              "      <th>MD_EARN_WNE</th>\n",
              "      <th>national_rank</th>\n",
              "    </tr>\n",
              "  </thead>\n",
              "  <tbody>\n",
              "    <tr>\n",
              "      <th>0</th>\n",
              "      <td>26300</td>\n",
              "      <td>71.0</td>\n",
              "    </tr>\n",
              "    <tr>\n",
              "      <th>1</th>\n",
              "      <td>56900</td>\n",
              "      <td>71.0</td>\n",
              "    </tr>\n",
              "    <tr>\n",
              "      <th>2</th>\n",
              "      <td>50500</td>\n",
              "      <td>71.0</td>\n",
              "    </tr>\n",
              "    <tr>\n",
              "      <th>3</th>\n",
              "      <td>57200</td>\n",
              "      <td>71.0</td>\n",
              "    </tr>\n",
              "    <tr>\n",
              "      <th>4</th>\n",
              "      <td>43700</td>\n",
              "      <td>71.0</td>\n",
              "    </tr>\n",
              "  </tbody>\n",
              "</table>\n",
              "</div>"
            ],
            "text/plain": [
              "   MD_EARN_WNE  national_rank\n",
              "0        26300           71.0\n",
              "1        56900           71.0\n",
              "2        50500           71.0\n",
              "3        57200           71.0\n",
              "4        43700           71.0"
            ]
          },
          "metadata": {
            "tags": []
          },
          "execution_count": 50
        }
      ]
    },
    {
      "cell_type": "code",
      "metadata": {
        "id": "kBVxHQCOmfVR"
      },
      "source": [
        "Y1=college_df['DEBTMEDIAN']"
      ],
      "execution_count": null,
      "outputs": []
    },
    {
      "cell_type": "code",
      "metadata": {
        "colab": {
          "base_uri": "https://localhost:8080/"
        },
        "id": "foQSuGL-cZBe",
        "outputId": "9057066f-e55a-4c58-aa0c-2b42ca54db46"
      },
      "source": [
        "Y1.head()"
      ],
      "execution_count": null,
      "outputs": [
        {
          "output_type": "execute_result",
          "data": {
            "text/plain": [
              "0    21474\n",
              "1    27750\n",
              "2    22601\n",
              "3    57346\n",
              "4    28218\n",
              "Name: DEBTMEDIAN, dtype: int64"
            ]
          },
          "metadata": {
            "tags": []
          },
          "execution_count": 54
        }
      ]
    },
    {
      "cell_type": "code",
      "metadata": {
        "id": "YZnFVeyVmfVS"
      },
      "source": [
        "# Split the data into Trainging and Testing sets\n",
        "X_train1, X_test1, Y_train1, Y_test1 = train_test_split(X1, Y1,test_size = 0.30,random_state =42)"
      ],
      "execution_count": null,
      "outputs": []
    },
    {
      "cell_type": "code",
      "metadata": {
        "id": "SLe3wACSmfVS"
      },
      "source": [
        "svr_model1=SVR()"
      ],
      "execution_count": null,
      "outputs": []
    },
    {
      "cell_type": "code",
      "metadata": {
        "colab": {
          "base_uri": "https://localhost:8080/"
        },
        "id": "3NhFRogamfVT",
        "outputId": "8e748d25-6bee-4d1e-97c4-2c6f6ddb8ffc"
      },
      "source": [
        "svr_model1.fit(X_train1,Y_train1)"
      ],
      "execution_count": null,
      "outputs": [
        {
          "output_type": "execute_result",
          "data": {
            "text/plain": [
              "SVR(C=1.0, cache_size=200, coef0=0.0, degree=3, epsilon=0.1, gamma='scale',\n",
              "    kernel='rbf', max_iter=-1, shrinking=True, tol=0.001, verbose=False)"
            ]
          },
          "metadata": {
            "tags": []
          },
          "execution_count": 19
        }
      ]
    },
    {
      "cell_type": "code",
      "metadata": {
        "colab": {
          "base_uri": "https://localhost:8080/"
        },
        "id": "RO06KV3bmfVV",
        "outputId": "2b529837-5cad-4588-8fcd-ca7f27c70b11"
      },
      "source": [
        "y_pred1=svr_model1.predict(X_test1)\n",
        "y_pred1"
      ],
      "execution_count": null,
      "outputs": [
        {
          "output_type": "execute_result",
          "data": {
            "text/plain": [
              "array([24546.13469257, 24496.5318757 , 24552.74359428, ...,\n",
              "       25240.74690051, 24471.87532837, 24584.52413507])"
            ]
          },
          "metadata": {
            "tags": []
          },
          "execution_count": 20
        }
      ]
    },
    {
      "cell_type": "markdown",
      "metadata": {
        "id": "oYTOxkX-cw5y"
      },
      "source": [
        "Evaluating models using the mean squared error. The mean squared error tells you how close a regression line is to a set of points."
      ]
    },
    {
      "cell_type": "code",
      "metadata": {
        "colab": {
          "base_uri": "https://localhost:8080/"
        },
        "id": "-gaLycQsdXec",
        "outputId": "8f0b7e30-fece-4882-ce97-37c01af57f0f"
      },
      "source": [
        "#Model evaluation: main campus feature included\n",
        "mse=mean_squared_error(Y_test,y_pred)\n",
        "rsme=np.sqrt(mse)\n",
        "rsme"
      ],
      "execution_count": null,
      "outputs": [
        {
          "output_type": "execute_result",
          "data": {
            "text/plain": [
              "32926.05050394414"
            ]
          },
          "metadata": {
            "tags": []
          },
          "execution_count": 21
        }
      ]
    },
    {
      "cell_type": "code",
      "metadata": {
        "colab": {
          "base_uri": "https://localhost:8080/"
        },
        "id": "TgJf9RrQmfVV",
        "outputId": "dced8093-e7cf-45f8-bb64-8efc1dbb1924"
      },
      "source": [
        "#Model evaluation: without main campus feature\n",
        "mse1=mean_squared_error(Y_test1,y_pred1)\n",
        "rsme1=np.sqrt(mse1)\n",
        "rsme1"
      ],
      "execution_count": null,
      "outputs": [
        {
          "output_type": "execute_result",
          "data": {
            "text/plain": [
              "32920.34538011089"
            ]
          },
          "metadata": {
            "tags": []
          },
          "execution_count": 22
        }
      ]
    },
    {
      "cell_type": "markdown",
      "metadata": {
        "id": "7gt58oTrty3I"
      },
      "source": [
        "The larger the number the larger the error. Error in this case is the difference between the observed values and the predicted ones."
      ]
    },
    {
      "cell_type": "code",
      "metadata": {
        "id": "zBEJqgLPmIY_"
      },
      "source": [
        "from sklearn.metrics import r2_score"
      ],
      "execution_count": null,
      "outputs": []
    },
    {
      "cell_type": "code",
      "metadata": {
        "colab": {
          "base_uri": "https://localhost:8080/"
        },
        "id": "_3ewD4q_mHxl",
        "outputId": "854a4801-cf48-4a89-a613-375b281eeee0"
      },
      "source": [
        "r2_score(Y_test, y_pred)"
      ],
      "execution_count": null,
      "outputs": [
        {
          "output_type": "execute_result",
          "data": {
            "text/plain": [
              "-0.07585297951746806"
            ]
          },
          "metadata": {
            "tags": []
          },
          "execution_count": 24
        }
      ]
    },
    {
      "cell_type": "code",
      "metadata": {
        "colab": {
          "base_uri": "https://localhost:8080/"
        },
        "id": "zJvLzVDrmHAC",
        "outputId": "4fe26594-ad3b-484b-c34e-a45ba38b4f6c"
      },
      "source": [
        "r2_score(Y_test1, y_pred1)"
      ],
      "execution_count": null,
      "outputs": [
        {
          "output_type": "execute_result",
          "data": {
            "text/plain": [
              "-0.07548018395752032"
            ]
          },
          "metadata": {
            "tags": []
          },
          "execution_count": 25
        }
      ]
    },
    {
      "cell_type": "markdown",
      "metadata": {
        "id": "Rl3fOJcp4fgy"
      },
      "source": [
        "R score is negative.. the model is arbitrarily bad"
      ]
    },
    {
      "cell_type": "markdown",
      "metadata": {
        "id": "lG5bpsVChfBd"
      },
      "source": [
        "SVR model does not seem to support our data. The performance of the model is very bad. I will be trying other regression models in the next steps."
      ]
    },
    {
      "cell_type": "markdown",
      "metadata": {
        "id": "zzUBSY9GX1Qx"
      },
      "source": [
        "Linear Regression"
      ]
    },
    {
      "cell_type": "code",
      "metadata": {
        "id": "t872HWrlX3hF"
      },
      "source": [
        "from sklearn.linear_model import LinearRegression"
      ],
      "execution_count": null,
      "outputs": []
    },
    {
      "cell_type": "code",
      "metadata": {
        "id": "swskYihfX6Nz"
      },
      "source": [
        "linear_model=LinearRegression()"
      ],
      "execution_count": null,
      "outputs": []
    },
    {
      "cell_type": "code",
      "metadata": {
        "colab": {
          "base_uri": "https://localhost:8080/"
        },
        "id": "NRAsef95YsdL",
        "outputId": "60e29cd9-de7c-4347-8dde-85fdc62b1053"
      },
      "source": [
        "linear_model.fit(X_train,Y_train)"
      ],
      "execution_count": null,
      "outputs": [
        {
          "output_type": "execute_result",
          "data": {
            "text/plain": [
              "LinearRegression(copy_X=True, fit_intercept=True, n_jobs=None, normalize=False)"
            ]
          },
          "metadata": {
            "tags": []
          },
          "execution_count": 31
        }
      ]
    },
    {
      "cell_type": "code",
      "metadata": {
        "colab": {
          "base_uri": "https://localhost:8080/"
        },
        "id": "mo4M007fYsdN",
        "outputId": "8883e466-4d6b-4ecb-c670-ac60b719fe3d"
      },
      "source": [
        "y_pred=linear_model.predict(X_test)\n",
        "y_pred"
      ],
      "execution_count": null,
      "outputs": [
        {
          "output_type": "execute_result",
          "data": {
            "text/plain": [
              "array([25415.78631222, 20402.31876874, 24513.52041616, ...,\n",
              "       69495.99182153, 19007.40899602, 16454.01081811])"
            ]
          },
          "metadata": {
            "tags": []
          },
          "execution_count": 32
        }
      ]
    },
    {
      "cell_type": "code",
      "metadata": {
        "id": "Gs28QCFoZamY"
      },
      "source": [
        "#Without main campus"
      ],
      "execution_count": null,
      "outputs": []
    },
    {
      "cell_type": "code",
      "metadata": {
        "id": "Ss71kfINZiEA"
      },
      "source": [
        "linear_model1=LinearRegression()"
      ],
      "execution_count": null,
      "outputs": []
    },
    {
      "cell_type": "code",
      "metadata": {
        "colab": {
          "base_uri": "https://localhost:8080/"
        },
        "id": "vQbuu8-tZiED",
        "outputId": "fe52c8ce-084f-4779-ae51-ae616529ed09"
      },
      "source": [
        "linear_model1.fit(X_train1,Y_train1)"
      ],
      "execution_count": null,
      "outputs": [
        {
          "output_type": "execute_result",
          "data": {
            "text/plain": [
              "LinearRegression(copy_X=True, fit_intercept=True, n_jobs=None, normalize=False)"
            ]
          },
          "metadata": {
            "tags": []
          },
          "execution_count": 39
        }
      ]
    },
    {
      "cell_type": "code",
      "metadata": {
        "colab": {
          "base_uri": "https://localhost:8080/"
        },
        "id": "12RvaaIFZiEE",
        "outputId": "1fbe0880-ca0f-4963-8134-d6b669bcfc02"
      },
      "source": [
        "y_pred1=linear_model1.predict(X_test1)\n",
        "y_pred1"
      ],
      "execution_count": null,
      "outputs": [
        {
          "output_type": "execute_result",
          "data": {
            "text/plain": [
              "array([25415.78631222, 20402.31876874, 24513.52041616, ...,\n",
              "       69495.99182153, 19007.40899602, 16454.01081811])"
            ]
          },
          "metadata": {
            "tags": []
          },
          "execution_count": 40
        }
      ]
    },
    {
      "cell_type": "markdown",
      "metadata": {
        "id": "7I8QrnjCZvNS"
      },
      "source": [
        "Evaluating models using the mean squared error. The mean squared error tells you how close a regression line is to a set of points."
      ]
    },
    {
      "cell_type": "code",
      "metadata": {
        "colab": {
          "base_uri": "https://localhost:8080/"
        },
        "id": "l277EjqXZvNV",
        "outputId": "e6fcad6e-2bed-4a4b-b9c1-ff3526efa729"
      },
      "source": [
        "#Model evaluation: main campus feature included\n",
        "mse=mean_squared_error(Y_test,y_pred)\n",
        "rsme=np.sqrt(mse)\n",
        "rsme"
      ],
      "execution_count": null,
      "outputs": [
        {
          "output_type": "execute_result",
          "data": {
            "text/plain": [
              "4525.69285518737"
            ]
          },
          "metadata": {
            "tags": []
          },
          "execution_count": 41
        }
      ]
    },
    {
      "cell_type": "code",
      "metadata": {
        "colab": {
          "base_uri": "https://localhost:8080/"
        },
        "id": "4LEEQzQhZvNX",
        "outputId": "9e46efe2-fb93-4e21-eb01-f2514a6ef643"
      },
      "source": [
        "#Model evaluation: without main campus feature\n",
        "mse1=mean_squared_error(Y_test1,y_pred1)\n",
        "rsme1=np.sqrt(mse1)\n",
        "rsme1"
      ],
      "execution_count": null,
      "outputs": [
        {
          "output_type": "execute_result",
          "data": {
            "text/plain": [
              "4525.692855187361"
            ]
          },
          "metadata": {
            "tags": []
          },
          "execution_count": 42
        }
      ]
    },
    {
      "cell_type": "markdown",
      "metadata": {
        "id": "QyUGSGxVZvNY"
      },
      "source": [
        "The larger the number the larger the error. Error in this case is the difference between the observed values and the predicted ones.<br>\n",
        "Here, the values 4525 indicates that the predicted debt has a range of + or - 4525 of the original debt value. I will not say my model that the model is at its best performance but after all the combinations I tried, this is the best performance."
      ]
    },
    {
      "cell_type": "code",
      "metadata": {
        "id": "kxgtCdxRZvNa"
      },
      "source": [
        "from sklearn.metrics import r2_score"
      ],
      "execution_count": null,
      "outputs": []
    },
    {
      "cell_type": "code",
      "metadata": {
        "colab": {
          "base_uri": "https://localhost:8080/"
        },
        "id": "AqCIw48CZvNb",
        "outputId": "3d7a2eb6-f904-41d9-fde9-52161481d54b"
      },
      "source": [
        "r2_score(Y_test, y_pred)"
      ],
      "execution_count": null,
      "outputs": [
        {
          "output_type": "execute_result",
          "data": {
            "text/plain": [
              "0.9796743801016072"
            ]
          },
          "metadata": {
            "tags": []
          },
          "execution_count": 44
        }
      ]
    },
    {
      "cell_type": "code",
      "metadata": {
        "colab": {
          "base_uri": "https://localhost:8080/"
        },
        "id": "_HeKJdRaZvNd",
        "outputId": "3d62a52c-1b26-48bc-c837-061665d80c16"
      },
      "source": [
        "r2_score(Y_test1, y_pred1)"
      ],
      "execution_count": null,
      "outputs": [
        {
          "output_type": "execute_result",
          "data": {
            "text/plain": [
              "0.9796743801016073"
            ]
          },
          "metadata": {
            "tags": []
          },
          "execution_count": 45
        }
      ]
    },
    {
      "cell_type": "markdown",
      "metadata": {
        "id": "uDf80X8xuvHz"
      },
      "source": [
        "R-squared is how well the regression model fits the observed data. Higher r-squared indicates a better fit for the model."
      ]
    },
    {
      "cell_type": "code",
      "metadata": {
        "colab": {
          "base_uri": "https://localhost:8080/",
          "height": 197
        },
        "id": "L-zE4eLYqMOy",
        "outputId": "382bfd38-d3b6-49d6-ba3f-e1d01c3b3911"
      },
      "source": [
        "X.head()"
      ],
      "execution_count": null,
      "outputs": [
        {
          "output_type": "execute_result",
          "data": {
            "text/html": [
              "<div>\n",
              "<style scoped>\n",
              "    .dataframe tbody tr th:only-of-type {\n",
              "        vertical-align: middle;\n",
              "    }\n",
              "\n",
              "    .dataframe tbody tr th {\n",
              "        vertical-align: top;\n",
              "    }\n",
              "\n",
              "    .dataframe thead th {\n",
              "        text-align: right;\n",
              "    }\n",
              "</style>\n",
              "<table border=\"1\" class=\"dataframe\">\n",
              "  <thead>\n",
              "    <tr style=\"text-align: right;\">\n",
              "      <th></th>\n",
              "      <th>MAIN</th>\n",
              "      <th>MD_EARN_WNE</th>\n",
              "      <th>national_rank</th>\n",
              "    </tr>\n",
              "  </thead>\n",
              "  <tbody>\n",
              "    <tr>\n",
              "      <th>0</th>\n",
              "      <td>1</td>\n",
              "      <td>26300</td>\n",
              "      <td>71.0</td>\n",
              "    </tr>\n",
              "    <tr>\n",
              "      <th>1</th>\n",
              "      <td>1</td>\n",
              "      <td>56900</td>\n",
              "      <td>71.0</td>\n",
              "    </tr>\n",
              "    <tr>\n",
              "      <th>2</th>\n",
              "      <td>1</td>\n",
              "      <td>50500</td>\n",
              "      <td>71.0</td>\n",
              "    </tr>\n",
              "    <tr>\n",
              "      <th>3</th>\n",
              "      <td>1</td>\n",
              "      <td>57200</td>\n",
              "      <td>71.0</td>\n",
              "    </tr>\n",
              "    <tr>\n",
              "      <th>4</th>\n",
              "      <td>1</td>\n",
              "      <td>43700</td>\n",
              "      <td>71.0</td>\n",
              "    </tr>\n",
              "  </tbody>\n",
              "</table>\n",
              "</div>"
            ],
            "text/plain": [
              "   MAIN  MD_EARN_WNE  national_rank\n",
              "0     1        26300           71.0\n",
              "1     1        56900           71.0\n",
              "2     1        50500           71.0\n",
              "3     1        57200           71.0\n",
              "4     1        43700           71.0"
            ]
          },
          "metadata": {
            "tags": []
          },
          "execution_count": 81
        }
      ]
    },
    {
      "cell_type": "code",
      "metadata": {
        "id": "jatYjOFDuSFX"
      },
      "source": [
        "#residual plot : do it"
      ],
      "execution_count": null,
      "outputs": []
    },
    {
      "cell_type": "code",
      "metadata": {
        "colab": {
          "base_uri": "https://localhost:8080/"
        },
        "id": "URSHKx6fqMMZ",
        "outputId": "7784f023-c055-41f7-d74d-961ae5973748"
      },
      "source": [
        "Y.head()"
      ],
      "execution_count": null,
      "outputs": [
        {
          "output_type": "execute_result",
          "data": {
            "text/plain": [
              "0    21474\n",
              "1    27750\n",
              "2    22601\n",
              "3    57346\n",
              "4    28218\n",
              "Name: DEBTMEDIAN, dtype: int64"
            ]
          },
          "metadata": {
            "tags": []
          },
          "execution_count": 82
        }
      ]
    },
    {
      "cell_type": "code",
      "metadata": {
        "colab": {
          "base_uri": "https://localhost:8080/",
          "height": 473
        },
        "id": "HhMi-WCPzI8V",
        "outputId": "ad88030b-3e8f-4f4d-b625-62a43bbd5b7c"
      },
      "source": [
        "college_df.head()"
      ],
      "execution_count": null,
      "outputs": [
        {
          "output_type": "execute_result",
          "data": {
            "text/html": [
              "<div>\n",
              "<style scoped>\n",
              "    .dataframe tbody tr th:only-of-type {\n",
              "        vertical-align: middle;\n",
              "    }\n",
              "\n",
              "    .dataframe tbody tr th {\n",
              "        vertical-align: top;\n",
              "    }\n",
              "\n",
              "    .dataframe thead th {\n",
              "        text-align: right;\n",
              "    }\n",
              "</style>\n",
              "<table border=\"1\" class=\"dataframe\">\n",
              "  <thead>\n",
              "    <tr style=\"text-align: right;\">\n",
              "      <th></th>\n",
              "      <th>UNITID</th>\n",
              "      <th>OPEID6</th>\n",
              "      <th>INSTNM</th>\n",
              "      <th>CONTROL</th>\n",
              "      <th>MAIN</th>\n",
              "      <th>CIPCODE</th>\n",
              "      <th>CIPDESC</th>\n",
              "      <th>CREDLEV</th>\n",
              "      <th>CREDDESC</th>\n",
              "      <th>COUNT</th>\n",
              "      <th>DEBTMEDIAN</th>\n",
              "      <th>DEBTPAYMENT10YR</th>\n",
              "      <th>DEBTMEAN</th>\n",
              "      <th>TITLEIVCOUNT</th>\n",
              "      <th>EARNINGSCOUNT</th>\n",
              "      <th>MD_EARN_WNE</th>\n",
              "      <th>IPEDSCOUNT1</th>\n",
              "      <th>IPEDSCOUNT2</th>\n",
              "      <th>CITY</th>\n",
              "      <th>STATE</th>\n",
              "      <th>ZIP</th>\n",
              "      <th>TUITFTE</th>\n",
              "      <th>INEXPFTE</th>\n",
              "      <th>ACCREDAGENCY</th>\n",
              "      <th>FTFTPCTPELL</th>\n",
              "      <th>cost_living_index_2020</th>\n",
              "      <th>relative_value_dollar_2017</th>\n",
              "      <th>national_rank</th>\n",
              "    </tr>\n",
              "  </thead>\n",
              "  <tbody>\n",
              "    <tr>\n",
              "      <th>0</th>\n",
              "      <td>100663.0</td>\n",
              "      <td>1052</td>\n",
              "      <td>University of Alabama at Birmingham</td>\n",
              "      <td>Public</td>\n",
              "      <td>1</td>\n",
              "      <td>901</td>\n",
              "      <td>Communication and Media Studies.</td>\n",
              "      <td>3</td>\n",
              "      <td>Bachelors Degree</td>\n",
              "      <td>86</td>\n",
              "      <td>21474</td>\n",
              "      <td>223</td>\n",
              "      <td>21667</td>\n",
              "      <td>92</td>\n",
              "      <td>84</td>\n",
              "      <td>26300</td>\n",
              "      <td>80.0</td>\n",
              "      <td>85.0</td>\n",
              "      <td>Birmingham</td>\n",
              "      <td>AL</td>\n",
              "      <td>35294-0110</td>\n",
              "      <td>13177.0</td>\n",
              "      <td>16454.0</td>\n",
              "      <td>Southern Association of Colleges and Schools C...</td>\n",
              "      <td>0.3788</td>\n",
              "      <td>89.4</td>\n",
              "      <td>115.34</td>\n",
              "      <td>71.0</td>\n",
              "    </tr>\n",
              "    <tr>\n",
              "      <th>1</th>\n",
              "      <td>100663.0</td>\n",
              "      <td>1052</td>\n",
              "      <td>University of Alabama at Birmingham</td>\n",
              "      <td>Public</td>\n",
              "      <td>1</td>\n",
              "      <td>1101</td>\n",
              "      <td>Computer and Information Sciences, General.</td>\n",
              "      <td>3</td>\n",
              "      <td>Bachelors Degree</td>\n",
              "      <td>36</td>\n",
              "      <td>27750</td>\n",
              "      <td>288</td>\n",
              "      <td>25889</td>\n",
              "      <td>34</td>\n",
              "      <td>34</td>\n",
              "      <td>56900</td>\n",
              "      <td>30.0</td>\n",
              "      <td>35.0</td>\n",
              "      <td>Birmingham</td>\n",
              "      <td>AL</td>\n",
              "      <td>35294-0110</td>\n",
              "      <td>13177.0</td>\n",
              "      <td>16454.0</td>\n",
              "      <td>Southern Association of Colleges and Schools C...</td>\n",
              "      <td>0.3788</td>\n",
              "      <td>89.4</td>\n",
              "      <td>115.34</td>\n",
              "      <td>71.0</td>\n",
              "    </tr>\n",
              "    <tr>\n",
              "      <th>2</th>\n",
              "      <td>100663.0</td>\n",
              "      <td>1052</td>\n",
              "      <td>University of Alabama at Birmingham</td>\n",
              "      <td>Public</td>\n",
              "      <td>1</td>\n",
              "      <td>1304</td>\n",
              "      <td>Educational Administration and Supervision.</td>\n",
              "      <td>5</td>\n",
              "      <td>Master's Degree</td>\n",
              "      <td>41</td>\n",
              "      <td>22601</td>\n",
              "      <td>263</td>\n",
              "      <td>25440</td>\n",
              "      <td>48</td>\n",
              "      <td>48</td>\n",
              "      <td>50500</td>\n",
              "      <td>58.0</td>\n",
              "      <td>11.0</td>\n",
              "      <td>Birmingham</td>\n",
              "      <td>AL</td>\n",
              "      <td>35294-0110</td>\n",
              "      <td>13177.0</td>\n",
              "      <td>16454.0</td>\n",
              "      <td>Southern Association of Colleges and Schools C...</td>\n",
              "      <td>0.3788</td>\n",
              "      <td>89.4</td>\n",
              "      <td>115.34</td>\n",
              "      <td>71.0</td>\n",
              "    </tr>\n",
              "    <tr>\n",
              "      <th>3</th>\n",
              "      <td>100663.0</td>\n",
              "      <td>1052</td>\n",
              "      <td>University of Alabama at Birmingham</td>\n",
              "      <td>Public</td>\n",
              "      <td>1</td>\n",
              "      <td>1304</td>\n",
              "      <td>Educational Administration and Supervision.</td>\n",
              "      <td>8</td>\n",
              "      <td>Graduate/Professional Certificate</td>\n",
              "      <td>22</td>\n",
              "      <td>57346</td>\n",
              "      <td>668</td>\n",
              "      <td>56814</td>\n",
              "      <td>22</td>\n",
              "      <td>22</td>\n",
              "      <td>57200</td>\n",
              "      <td>28.0</td>\n",
              "      <td>7.0</td>\n",
              "      <td>Birmingham</td>\n",
              "      <td>AL</td>\n",
              "      <td>35294-0110</td>\n",
              "      <td>13177.0</td>\n",
              "      <td>16454.0</td>\n",
              "      <td>Southern Association of Colleges and Schools C...</td>\n",
              "      <td>0.3788</td>\n",
              "      <td>89.4</td>\n",
              "      <td>115.34</td>\n",
              "      <td>71.0</td>\n",
              "    </tr>\n",
              "    <tr>\n",
              "      <th>4</th>\n",
              "      <td>100663.0</td>\n",
              "      <td>1052</td>\n",
              "      <td>University of Alabama at Birmingham</td>\n",
              "      <td>Public</td>\n",
              "      <td>1</td>\n",
              "      <td>1310</td>\n",
              "      <td>Special Education and Teaching.</td>\n",
              "      <td>5</td>\n",
              "      <td>Master's Degree</td>\n",
              "      <td>36</td>\n",
              "      <td>28218</td>\n",
              "      <td>329</td>\n",
              "      <td>28717</td>\n",
              "      <td>27</td>\n",
              "      <td>27</td>\n",
              "      <td>43700</td>\n",
              "      <td>29.0</td>\n",
              "      <td>28.0</td>\n",
              "      <td>Birmingham</td>\n",
              "      <td>AL</td>\n",
              "      <td>35294-0110</td>\n",
              "      <td>13177.0</td>\n",
              "      <td>16454.0</td>\n",
              "      <td>Southern Association of Colleges and Schools C...</td>\n",
              "      <td>0.3788</td>\n",
              "      <td>89.4</td>\n",
              "      <td>115.34</td>\n",
              "      <td>71.0</td>\n",
              "    </tr>\n",
              "  </tbody>\n",
              "</table>\n",
              "</div>"
            ],
            "text/plain": [
              "     UNITID  OPEID6  ... relative_value_dollar_2017 national_rank\n",
              "0  100663.0    1052  ...                     115.34          71.0\n",
              "1  100663.0    1052  ...                     115.34          71.0\n",
              "2  100663.0    1052  ...                     115.34          71.0\n",
              "3  100663.0    1052  ...                     115.34          71.0\n",
              "4  100663.0    1052  ...                     115.34          71.0\n",
              "\n",
              "[5 rows x 28 columns]"
            ]
          },
          "metadata": {
            "tags": []
          },
          "execution_count": 83
        }
      ]
    },
    {
      "cell_type": "code",
      "metadata": {
        "colab": {
          "base_uri": "https://localhost:8080/"
        },
        "id": "cLu88pPxqMJT",
        "outputId": "ee5d005d-cf50-4600-c88f-bbe0b03a9cd5"
      },
      "source": [
        "college_df.columns"
      ],
      "execution_count": null,
      "outputs": [
        {
          "output_type": "execute_result",
          "data": {
            "text/plain": [
              "Index(['UNITID', 'OPEID6', 'INSTNM', 'CONTROL', 'MAIN', 'CIPCODE', 'CIPDESC',\n",
              "       'CREDLEV', 'CREDDESC', 'COUNT', 'DEBTMEDIAN', 'DEBTPAYMENT10YR',\n",
              "       'DEBTMEAN', 'TITLEIVCOUNT', 'EARNINGSCOUNT', 'MD_EARN_WNE',\n",
              "       'IPEDSCOUNT1', 'IPEDSCOUNT2', 'CITY', 'STATE', 'ZIP', 'TUITFTE',\n",
              "       'INEXPFTE', 'ACCREDAGENCY', 'FTFTPCTPELL', 'cost_living_index_2020',\n",
              "       'relative_value_dollar_2017', 'national_rank'],\n",
              "      dtype='object')"
            ]
          },
          "metadata": {
            "tags": []
          },
          "execution_count": 80
        }
      ]
    },
    {
      "cell_type": "code",
      "metadata": {
        "id": "md-23iNPjNxL"
      },
      "source": [
        ""
      ],
      "execution_count": null,
      "outputs": []
    }
  ]
}