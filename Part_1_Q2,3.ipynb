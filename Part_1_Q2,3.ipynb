{
  "nbformat": 4,
  "nbformat_minor": 0,
  "metadata": {
    "colab": {
      "name": "Part 1-Q2,3.ipynb",
      "provenance": [],
      "collapsed_sections": []
    },
    "kernelspec": {
      "name": "python3",
      "display_name": "Python 3"
    },
    "language_info": {
      "name": "python"
    }
  },
  "cells": [
    {
      "cell_type": "markdown",
      "metadata": {
        "id": "WJLvkHR-UZIf"
      },
      "source": [
        "Q2. Which field of study leads to the highest debt after graduation?"
      ]
    },
    {
      "cell_type": "code",
      "metadata": {
        "id": "8rHySKSKkQ8L"
      },
      "source": [
        "import pandas as pd\n",
        "import numpy as np"
      ],
      "execution_count": null,
      "outputs": []
    },
    {
      "cell_type": "code",
      "metadata": {
        "colab": {
          "base_uri": "https://localhost:8080/"
        },
        "id": "lrZV_B_sb8zp",
        "outputId": "73fd3d40-18c6-4d92-ce04-9219ac6c5a76"
      },
      "source": [
        "from google.colab import drive\n",
        "drive.mount('/content/drive')"
      ],
      "execution_count": null,
      "outputs": [
        {
          "output_type": "stream",
          "text": [
            "Mounted at /content/drive\n"
          ],
          "name": "stdout"
        }
      ]
    },
    {
      "cell_type": "code",
      "metadata": {
        "id": "2zqii9XMkC9t"
      },
      "source": [
        "college_df = pd.read_csv(r'/content/drive/My Drive/DATA 606/Final.csv')"
      ],
      "execution_count": null,
      "outputs": []
    },
    {
      "cell_type": "code",
      "metadata": {
        "colab": {
          "base_uri": "https://localhost:8080/",
          "height": 484
        },
        "id": "I9Fo2SQ0kN70",
        "outputId": "d3e467b0-8252-4aab-a004-200c26baee63"
      },
      "source": [
        "college_df.head()"
      ],
      "execution_count": null,
      "outputs": [
        {
          "output_type": "execute_result",
          "data": {
            "text/html": [
              "<div>\n",
              "<style scoped>\n",
              "    .dataframe tbody tr th:only-of-type {\n",
              "        vertical-align: middle;\n",
              "    }\n",
              "\n",
              "    .dataframe tbody tr th {\n",
              "        vertical-align: top;\n",
              "    }\n",
              "\n",
              "    .dataframe thead th {\n",
              "        text-align: right;\n",
              "    }\n",
              "</style>\n",
              "<table border=\"1\" class=\"dataframe\">\n",
              "  <thead>\n",
              "    <tr style=\"text-align: right;\">\n",
              "      <th></th>\n",
              "      <th>Unnamed: 0</th>\n",
              "      <th>Unnamed: 0.1</th>\n",
              "      <th>UNITID</th>\n",
              "      <th>OPEID6</th>\n",
              "      <th>INSTNM</th>\n",
              "      <th>CONTROL</th>\n",
              "      <th>MAIN</th>\n",
              "      <th>CIPCODE</th>\n",
              "      <th>CIPDESC</th>\n",
              "      <th>CREDLEV</th>\n",
              "      <th>CREDDESC</th>\n",
              "      <th>COUNT</th>\n",
              "      <th>DEBTMEDIAN</th>\n",
              "      <th>DEBTPAYMENT10YR</th>\n",
              "      <th>DEBTMEAN</th>\n",
              "      <th>TITLEIVCOUNT</th>\n",
              "      <th>EARNINGSCOUNT</th>\n",
              "      <th>MD_EARN_WNE</th>\n",
              "      <th>IPEDSCOUNT1</th>\n",
              "      <th>IPEDSCOUNT2</th>\n",
              "      <th>CITY</th>\n",
              "      <th>STATE</th>\n",
              "      <th>ZIP</th>\n",
              "      <th>TUITFTE</th>\n",
              "      <th>INEXPFTE</th>\n",
              "      <th>ACCREDAGENCY</th>\n",
              "      <th>FTFTPCTPELL</th>\n",
              "      <th>cost_living_index_2020</th>\n",
              "      <th>relative_value_dollar_2017</th>\n",
              "    </tr>\n",
              "  </thead>\n",
              "  <tbody>\n",
              "    <tr>\n",
              "      <th>0</th>\n",
              "      <td>0</td>\n",
              "      <td>15</td>\n",
              "      <td>100654.0</td>\n",
              "      <td>1002</td>\n",
              "      <td>Alabama A &amp; M University</td>\n",
              "      <td>Public</td>\n",
              "      <td>1</td>\n",
              "      <td>1101</td>\n",
              "      <td>Computer and Information Sciences, General.</td>\n",
              "      <td>3</td>\n",
              "      <td>Bachelors Degree</td>\n",
              "      <td>25</td>\n",
              "      <td>36250</td>\n",
              "      <td>376</td>\n",
              "      <td>37194</td>\n",
              "      <td>33</td>\n",
              "      <td>33</td>\n",
              "      <td>54300</td>\n",
              "      <td>17.0</td>\n",
              "      <td>16.0</td>\n",
              "      <td>Normal</td>\n",
              "      <td>AL</td>\n",
              "      <td>35762</td>\n",
              "      <td>7413.0</td>\n",
              "      <td>5384.0</td>\n",
              "      <td>Southern Association of Colleges and Schools C...</td>\n",
              "      <td>0.7057</td>\n",
              "      <td>89.4</td>\n",
              "      <td>115.34</td>\n",
              "    </tr>\n",
              "    <tr>\n",
              "      <th>1</th>\n",
              "      <td>1</td>\n",
              "      <td>24</td>\n",
              "      <td>100654.0</td>\n",
              "      <td>1002</td>\n",
              "      <td>Alabama A &amp; M University</td>\n",
              "      <td>Public</td>\n",
              "      <td>1</td>\n",
              "      <td>1313</td>\n",
              "      <td>Teacher Education and Professional Development...</td>\n",
              "      <td>3</td>\n",
              "      <td>Bachelors Degree</td>\n",
              "      <td>46</td>\n",
              "      <td>31505</td>\n",
              "      <td>327</td>\n",
              "      <td>33085</td>\n",
              "      <td>32</td>\n",
              "      <td>31</td>\n",
              "      <td>25400</td>\n",
              "      <td>24.0</td>\n",
              "      <td>33.0</td>\n",
              "      <td>Normal</td>\n",
              "      <td>AL</td>\n",
              "      <td>35762</td>\n",
              "      <td>7413.0</td>\n",
              "      <td>5384.0</td>\n",
              "      <td>Southern Association of Colleges and Schools C...</td>\n",
              "      <td>0.7057</td>\n",
              "      <td>89.4</td>\n",
              "      <td>115.34</td>\n",
              "    </tr>\n",
              "    <tr>\n",
              "      <th>2</th>\n",
              "      <td>2</td>\n",
              "      <td>27</td>\n",
              "      <td>100654.0</td>\n",
              "      <td>1002</td>\n",
              "      <td>Alabama A &amp; M University</td>\n",
              "      <td>Public</td>\n",
              "      <td>1</td>\n",
              "      <td>1410</td>\n",
              "      <td>Electrical, Electronics and Communications Eng...</td>\n",
              "      <td>3</td>\n",
              "      <td>Bachelors Degree</td>\n",
              "      <td>22</td>\n",
              "      <td>34809</td>\n",
              "      <td>361</td>\n",
              "      <td>36482</td>\n",
              "      <td>33</td>\n",
              "      <td>31</td>\n",
              "      <td>54500</td>\n",
              "      <td>19.0</td>\n",
              "      <td>11.0</td>\n",
              "      <td>Normal</td>\n",
              "      <td>AL</td>\n",
              "      <td>35762</td>\n",
              "      <td>7413.0</td>\n",
              "      <td>5384.0</td>\n",
              "      <td>Southern Association of Colleges and Schools C...</td>\n",
              "      <td>0.7057</td>\n",
              "      <td>89.4</td>\n",
              "      <td>115.34</td>\n",
              "    </tr>\n",
              "    <tr>\n",
              "      <th>3</th>\n",
              "      <td>3</td>\n",
              "      <td>37</td>\n",
              "      <td>100654.0</td>\n",
              "      <td>1002</td>\n",
              "      <td>Alabama A &amp; M University</td>\n",
              "      <td>Public</td>\n",
              "      <td>1</td>\n",
              "      <td>2401</td>\n",
              "      <td>Liberal Arts and Sciences, General Studies and...</td>\n",
              "      <td>3</td>\n",
              "      <td>Bachelors Degree</td>\n",
              "      <td>39</td>\n",
              "      <td>29956</td>\n",
              "      <td>311</td>\n",
              "      <td>30970</td>\n",
              "      <td>30</td>\n",
              "      <td>30</td>\n",
              "      <td>24000</td>\n",
              "      <td>28.0</td>\n",
              "      <td>28.0</td>\n",
              "      <td>Normal</td>\n",
              "      <td>AL</td>\n",
              "      <td>35762</td>\n",
              "      <td>7413.0</td>\n",
              "      <td>5384.0</td>\n",
              "      <td>Southern Association of Colleges and Schools C...</td>\n",
              "      <td>0.7057</td>\n",
              "      <td>89.4</td>\n",
              "      <td>115.34</td>\n",
              "    </tr>\n",
              "    <tr>\n",
              "      <th>4</th>\n",
              "      <td>4</td>\n",
              "      <td>38</td>\n",
              "      <td>100654.0</td>\n",
              "      <td>1002</td>\n",
              "      <td>Alabama A &amp; M University</td>\n",
              "      <td>Public</td>\n",
              "      <td>1</td>\n",
              "      <td>2601</td>\n",
              "      <td>Biology, General.</td>\n",
              "      <td>3</td>\n",
              "      <td>Bachelors Degree</td>\n",
              "      <td>59</td>\n",
              "      <td>34000</td>\n",
              "      <td>353</td>\n",
              "      <td>32783</td>\n",
              "      <td>31</td>\n",
              "      <td>30</td>\n",
              "      <td>23800</td>\n",
              "      <td>30.0</td>\n",
              "      <td>43.0</td>\n",
              "      <td>Normal</td>\n",
              "      <td>AL</td>\n",
              "      <td>35762</td>\n",
              "      <td>7413.0</td>\n",
              "      <td>5384.0</td>\n",
              "      <td>Southern Association of Colleges and Schools C...</td>\n",
              "      <td>0.7057</td>\n",
              "      <td>89.4</td>\n",
              "      <td>115.34</td>\n",
              "    </tr>\n",
              "  </tbody>\n",
              "</table>\n",
              "</div>"
            ],
            "text/plain": [
              "   Unnamed: 0  Unnamed: 0.1  ...  cost_living_index_2020  relative_value_dollar_2017\n",
              "0           0            15  ...                    89.4                      115.34\n",
              "1           1            24  ...                    89.4                      115.34\n",
              "2           2            27  ...                    89.4                      115.34\n",
              "3           3            37  ...                    89.4                      115.34\n",
              "4           4            38  ...                    89.4                      115.34\n",
              "\n",
              "[5 rows x 29 columns]"
            ]
          },
          "metadata": {
            "tags": []
          },
          "execution_count": 4
        }
      ]
    },
    {
      "cell_type": "code",
      "metadata": {
        "id": "C9EQ6tqskTq0"
      },
      "source": [
        "del college_df['Unnamed: 0.1']\n",
        "del college_df['Unnamed: 0']"
      ],
      "execution_count": null,
      "outputs": []
    },
    {
      "cell_type": "code",
      "metadata": {
        "colab": {
          "base_uri": "https://localhost:8080/",
          "height": 1000
        },
        "id": "8WSjFIsrYvj5",
        "outputId": "290d3a3e-755e-44a7-cfc0-27ff90ed38a5"
      },
      "source": [
        "top_debt=college_df[['DEBTMEDIAN','CIPDESC','CREDDESC','INSTNM']].sort_values(by='DEBTMEDIAN',ascending=False).head(50)\n",
        "top_debt"
      ],
      "execution_count": null,
      "outputs": [
        {
          "output_type": "execute_result",
          "data": {
            "text/html": [
              "<div>\n",
              "<style scoped>\n",
              "    .dataframe tbody tr th:only-of-type {\n",
              "        vertical-align: middle;\n",
              "    }\n",
              "\n",
              "    .dataframe tbody tr th {\n",
              "        vertical-align: top;\n",
              "    }\n",
              "\n",
              "    .dataframe thead th {\n",
              "        text-align: right;\n",
              "    }\n",
              "</style>\n",
              "<table border=\"1\" class=\"dataframe\">\n",
              "  <thead>\n",
              "    <tr style=\"text-align: right;\">\n",
              "      <th></th>\n",
              "      <th>DEBTMEDIAN</th>\n",
              "      <th>CIPDESC</th>\n",
              "      <th>CREDDESC</th>\n",
              "      <th>INSTNM</th>\n",
              "    </tr>\n",
              "  </thead>\n",
              "  <tbody>\n",
              "    <tr>\n",
              "      <th>3840</th>\n",
              "      <td>403691</td>\n",
              "      <td>Dentistry.</td>\n",
              "      <td>First Professional Degree</td>\n",
              "      <td>University of Southern California</td>\n",
              "    </tr>\n",
              "    <tr>\n",
              "      <th>3115</th>\n",
              "      <td>393548</td>\n",
              "      <td>Dentistry.</td>\n",
              "      <td>First Professional Degree</td>\n",
              "      <td>Western University of Health Sciences</td>\n",
              "    </tr>\n",
              "    <tr>\n",
              "      <th>30221</th>\n",
              "      <td>387660</td>\n",
              "      <td>Dentistry.</td>\n",
              "      <td>First Professional Degree</td>\n",
              "      <td>New York University</td>\n",
              "    </tr>\n",
              "    <tr>\n",
              "      <th>5431</th>\n",
              "      <td>374924</td>\n",
              "      <td>Dentistry.</td>\n",
              "      <td>First Professional Degree</td>\n",
              "      <td>A T Still University of Health Sciences</td>\n",
              "    </tr>\n",
              "    <tr>\n",
              "      <th>3420</th>\n",
              "      <td>360439</td>\n",
              "      <td>Dentistry.</td>\n",
              "      <td>First Professional Degree</td>\n",
              "      <td>University of the Pacific</td>\n",
              "    </tr>\n",
              "    <tr>\n",
              "      <th>32817</th>\n",
              "      <td>339019</td>\n",
              "      <td>Dentistry.</td>\n",
              "      <td>First Professional Degree</td>\n",
              "      <td>Case Western Reserve University</td>\n",
              "    </tr>\n",
              "    <tr>\n",
              "      <th>21252</th>\n",
              "      <td>338646</td>\n",
              "      <td>Dentistry.</td>\n",
              "      <td>First Professional Degree</td>\n",
              "      <td>University of Detroit Mercy</td>\n",
              "    </tr>\n",
              "    <tr>\n",
              "      <th>31450</th>\n",
              "      <td>326042</td>\n",
              "      <td>Dentistry.</td>\n",
              "      <td>First Professional Degree</td>\n",
              "      <td>University of Nevada-Las Vegas</td>\n",
              "    </tr>\n",
              "    <tr>\n",
              "      <th>27960</th>\n",
              "      <td>322508</td>\n",
              "      <td>Dentistry.</td>\n",
              "      <td>First Professional Degree</td>\n",
              "      <td>Lake Erie College of Osteopathic Medicine</td>\n",
              "    </tr>\n",
              "    <tr>\n",
              "      <th>9666</th>\n",
              "      <td>316711</td>\n",
              "      <td>Dentistry.</td>\n",
              "      <td>First Professional Degree</td>\n",
              "      <td>Tufts University</td>\n",
              "    </tr>\n",
              "    <tr>\n",
              "      <th>3243</th>\n",
              "      <td>308863</td>\n",
              "      <td>Dentistry.</td>\n",
              "      <td>First Professional Degree</td>\n",
              "      <td>Loma Linda University</td>\n",
              "    </tr>\n",
              "    <tr>\n",
              "      <th>31553</th>\n",
              "      <td>305015</td>\n",
              "      <td>Osteopathic Medicine/Osteopathy.</td>\n",
              "      <td>First Professional Degree</td>\n",
              "      <td>Touro University Nevada</td>\n",
              "    </tr>\n",
              "    <tr>\n",
              "      <th>4452</th>\n",
              "      <td>305015</td>\n",
              "      <td>Osteopathic Medicine/Osteopathy.</td>\n",
              "      <td>First Professional Degree</td>\n",
              "      <td>Touro University California</td>\n",
              "    </tr>\n",
              "    <tr>\n",
              "      <th>1181</th>\n",
              "      <td>302209</td>\n",
              "      <td>Osteopathic Medicine/Osteopathy.</td>\n",
              "      <td>First Professional Degree</td>\n",
              "      <td>Pacific Northwest University of Health Sciences</td>\n",
              "    </tr>\n",
              "    <tr>\n",
              "      <th>10088</th>\n",
              "      <td>299503</td>\n",
              "      <td>Dentistry.</td>\n",
              "      <td>First Professional Degree</td>\n",
              "      <td>Howard University</td>\n",
              "    </tr>\n",
              "    <tr>\n",
              "      <th>3120</th>\n",
              "      <td>298724</td>\n",
              "      <td>Veterinary Medicine.</td>\n",
              "      <td>First Professional Degree</td>\n",
              "      <td>Western University of Health Sciences</td>\n",
              "    </tr>\n",
              "    <tr>\n",
              "      <th>3117</th>\n",
              "      <td>296944</td>\n",
              "      <td>Osteopathic Medicine/Osteopathy.</td>\n",
              "      <td>First Professional Degree</td>\n",
              "      <td>Western University of Health Sciences</td>\n",
              "    </tr>\n",
              "    <tr>\n",
              "      <th>16274</th>\n",
              "      <td>291336</td>\n",
              "      <td>Osteopathic Medicine/Osteopathy.</td>\n",
              "      <td>First Professional Degree</td>\n",
              "      <td>Lincoln Memorial University</td>\n",
              "    </tr>\n",
              "    <tr>\n",
              "      <th>5433</th>\n",
              "      <td>290684</td>\n",
              "      <td>Osteopathic Medicine/Osteopathy.</td>\n",
              "      <td>First Professional Degree</td>\n",
              "      <td>A T Still University of Health Sciences</td>\n",
              "    </tr>\n",
              "    <tr>\n",
              "      <th>20167</th>\n",
              "      <td>287120</td>\n",
              "      <td>Medicine.</td>\n",
              "      <td>First Professional Degree</td>\n",
              "      <td>Tulane University of Louisiana</td>\n",
              "    </tr>\n",
              "    <tr>\n",
              "      <th>27754</th>\n",
              "      <td>286484</td>\n",
              "      <td>Dentistry.</td>\n",
              "      <td>First Professional Degree</td>\n",
              "      <td>Temple University</td>\n",
              "    </tr>\n",
              "    <tr>\n",
              "      <th>31148</th>\n",
              "      <td>276817</td>\n",
              "      <td>Osteopathic Medicine/Osteopathy.</td>\n",
              "      <td>First Professional Degree</td>\n",
              "      <td>Touro College</td>\n",
              "    </tr>\n",
              "    <tr>\n",
              "      <th>34194</th>\n",
              "      <td>276675</td>\n",
              "      <td>Dentistry.</td>\n",
              "      <td>First Professional Degree</td>\n",
              "      <td>Oregon Health &amp; Science University</td>\n",
              "    </tr>\n",
              "    <tr>\n",
              "      <th>7842</th>\n",
              "      <td>275136</td>\n",
              "      <td>Osteopathic Medicine/Osteopathy.</td>\n",
              "      <td>First Professional Degree</td>\n",
              "      <td>Rocky Vista University</td>\n",
              "    </tr>\n",
              "    <tr>\n",
              "      <th>29354</th>\n",
              "      <td>271091</td>\n",
              "      <td>Dentistry.</td>\n",
              "      <td>First Professional Degree</td>\n",
              "      <td>Columbia University in the City of New York</td>\n",
              "    </tr>\n",
              "    <tr>\n",
              "      <th>25939</th>\n",
              "      <td>270922</td>\n",
              "      <td>Osteopathic Medicine/Osteopathy.</td>\n",
              "      <td>First Professional Degree</td>\n",
              "      <td>Edward Via College of Osteopathic Medicine</td>\n",
              "    </tr>\n",
              "    <tr>\n",
              "      <th>416</th>\n",
              "      <td>270333</td>\n",
              "      <td>Veterinary Medicine.</td>\n",
              "      <td>First Professional Degree</td>\n",
              "      <td>Tuskegee University</td>\n",
              "    </tr>\n",
              "    <tr>\n",
              "      <th>9024</th>\n",
              "      <td>267680</td>\n",
              "      <td>Dentistry.</td>\n",
              "      <td>First Professional Degree</td>\n",
              "      <td>Boston University</td>\n",
              "    </tr>\n",
              "    <tr>\n",
              "      <th>3841</th>\n",
              "      <td>266826</td>\n",
              "      <td>Advanced/Graduate Dentistry and Oral Sciences.</td>\n",
              "      <td>Graduate/Professional Certificate</td>\n",
              "      <td>University of Southern California</td>\n",
              "    </tr>\n",
              "    <tr>\n",
              "      <th>28783</th>\n",
              "      <td>265000</td>\n",
              "      <td>Dentistry.</td>\n",
              "      <td>First Professional Degree</td>\n",
              "      <td>Creighton University</td>\n",
              "    </tr>\n",
              "    <tr>\n",
              "      <th>30794</th>\n",
              "      <td>263704</td>\n",
              "      <td>Dentistry.</td>\n",
              "      <td>First Professional Degree</td>\n",
              "      <td>Stony Brook University</td>\n",
              "    </tr>\n",
              "    <tr>\n",
              "      <th>26350</th>\n",
              "      <td>263037</td>\n",
              "      <td>Medicine.</td>\n",
              "      <td>First Professional Degree</td>\n",
              "      <td>Drexel University</td>\n",
              "    </tr>\n",
              "    <tr>\n",
              "      <th>5899</th>\n",
              "      <td>261732</td>\n",
              "      <td>Osteopathic Medicine/Osteopathy.</td>\n",
              "      <td>First Professional Degree</td>\n",
              "      <td>Kansas City University of Medicine and Bioscie...</td>\n",
              "    </tr>\n",
              "    <tr>\n",
              "      <th>6061</th>\n",
              "      <td>261732</td>\n",
              "      <td>Osteopathic Medicine/Osteopathy.</td>\n",
              "      <td>First Professional Degree</td>\n",
              "      <td>Kansas City University of Medicine and Bioscie...</td>\n",
              "    </tr>\n",
              "    <tr>\n",
              "      <th>13096</th>\n",
              "      <td>260963</td>\n",
              "      <td>Clinical, Counseling and Applied Psychology.</td>\n",
              "      <td>First Professional Degree</td>\n",
              "      <td>Adler University</td>\n",
              "    </tr>\n",
              "    <tr>\n",
              "      <th>30263</th>\n",
              "      <td>258647</td>\n",
              "      <td>Osteopathic Medicine/Osteopathy.</td>\n",
              "      <td>First Professional Degree</td>\n",
              "      <td>New York Institute of Technology</td>\n",
              "    </tr>\n",
              "    <tr>\n",
              "      <th>6654</th>\n",
              "      <td>256445</td>\n",
              "      <td>Dentistry.</td>\n",
              "      <td>First Professional Degree</td>\n",
              "      <td>University of Minnesota-Twin Cities</td>\n",
              "    </tr>\n",
              "    <tr>\n",
              "      <th>10153</th>\n",
              "      <td>254525</td>\n",
              "      <td>Podiatric Medicine/Podiatry.</td>\n",
              "      <td>First Professional Degree</td>\n",
              "      <td>Barry University</td>\n",
              "    </tr>\n",
              "    <tr>\n",
              "      <th>31149</th>\n",
              "      <td>250667</td>\n",
              "      <td>Pharmacy, Pharmaceutical Sciences, and Adminis...</td>\n",
              "      <td>First Professional Degree</td>\n",
              "      <td>Touro College</td>\n",
              "    </tr>\n",
              "    <tr>\n",
              "      <th>27362</th>\n",
              "      <td>250334</td>\n",
              "      <td>Osteopathic Medicine/Osteopathy.</td>\n",
              "      <td>First Professional Degree</td>\n",
              "      <td>Philadelphia College of Osteopathic Medicine</td>\n",
              "    </tr>\n",
              "    <tr>\n",
              "      <th>12290</th>\n",
              "      <td>248672</td>\n",
              "      <td>Medicine.</td>\n",
              "      <td>First Professional Degree</td>\n",
              "      <td>Morehouse School of Medicine</td>\n",
              "    </tr>\n",
              "    <tr>\n",
              "      <th>19550</th>\n",
              "      <td>248418</td>\n",
              "      <td>Dentistry.</td>\n",
              "      <td>First Professional Degree</td>\n",
              "      <td>University of Louisville</td>\n",
              "    </tr>\n",
              "    <tr>\n",
              "      <th>13445</th>\n",
              "      <td>248114</td>\n",
              "      <td>Medicine.</td>\n",
              "      <td>First Professional Degree</td>\n",
              "      <td>University of Illinois at Chicago</td>\n",
              "    </tr>\n",
              "    <tr>\n",
              "      <th>18067</th>\n",
              "      <td>247375</td>\n",
              "      <td>Osteopathic Medicine/Osteopathy.</td>\n",
              "      <td>First Professional Degree</td>\n",
              "      <td>Des Moines University-Osteopathic Medical Center</td>\n",
              "    </tr>\n",
              "    <tr>\n",
              "      <th>3403</th>\n",
              "      <td>247369</td>\n",
              "      <td>Clinical, Counseling and Applied Psychology.</td>\n",
              "      <td>Doctoral Degree</td>\n",
              "      <td>Palo Alto University</td>\n",
              "    </tr>\n",
              "    <tr>\n",
              "      <th>21683</th>\n",
              "      <td>244739</td>\n",
              "      <td>Osteopathic Medicine/Osteopathy.</td>\n",
              "      <td>First Professional Degree</td>\n",
              "      <td>Michigan State University</td>\n",
              "    </tr>\n",
              "    <tr>\n",
              "      <th>3119</th>\n",
              "      <td>242487</td>\n",
              "      <td>Podiatric Medicine/Podiatry.</td>\n",
              "      <td>First Professional Degree</td>\n",
              "      <td>Western University of Health Sciences</td>\n",
              "    </tr>\n",
              "    <tr>\n",
              "      <th>8025</th>\n",
              "      <td>238253</td>\n",
              "      <td>Dentistry.</td>\n",
              "      <td>First Professional Degree</td>\n",
              "      <td>University of Oklahoma-Health Sciences Center</td>\n",
              "    </tr>\n",
              "    <tr>\n",
              "      <th>8104</th>\n",
              "      <td>238253</td>\n",
              "      <td>Dentistry.</td>\n",
              "      <td>First Professional Degree</td>\n",
              "      <td>University of Oklahoma-Norman Campus</td>\n",
              "    </tr>\n",
              "    <tr>\n",
              "      <th>10681</th>\n",
              "      <td>237972</td>\n",
              "      <td>Dentistry.</td>\n",
              "      <td>First Professional Degree</td>\n",
              "      <td>University of Florida</td>\n",
              "    </tr>\n",
              "  </tbody>\n",
              "</table>\n",
              "</div>"
            ],
            "text/plain": [
              "       DEBTMEDIAN  ...                                             INSTNM\n",
              "3840       403691  ...                  University of Southern California\n",
              "3115       393548  ...              Western University of Health Sciences\n",
              "30221      387660  ...                                New York University\n",
              "5431       374924  ...            A T Still University of Health Sciences\n",
              "3420       360439  ...                          University of the Pacific\n",
              "32817      339019  ...                    Case Western Reserve University\n",
              "21252      338646  ...                        University of Detroit Mercy\n",
              "31450      326042  ...                     University of Nevada-Las Vegas\n",
              "27960      322508  ...          Lake Erie College of Osteopathic Medicine\n",
              "9666       316711  ...                                   Tufts University\n",
              "3243       308863  ...                              Loma Linda University\n",
              "31553      305015  ...                            Touro University Nevada\n",
              "4452       305015  ...                        Touro University California\n",
              "1181       302209  ...    Pacific Northwest University of Health Sciences\n",
              "10088      299503  ...                                  Howard University\n",
              "3120       298724  ...              Western University of Health Sciences\n",
              "3117       296944  ...              Western University of Health Sciences\n",
              "16274      291336  ...                        Lincoln Memorial University\n",
              "5433       290684  ...            A T Still University of Health Sciences\n",
              "20167      287120  ...                     Tulane University of Louisiana\n",
              "27754      286484  ...                                  Temple University\n",
              "31148      276817  ...                                      Touro College\n",
              "34194      276675  ...                 Oregon Health & Science University\n",
              "7842       275136  ...                             Rocky Vista University\n",
              "29354      271091  ...        Columbia University in the City of New York\n",
              "25939      270922  ...         Edward Via College of Osteopathic Medicine\n",
              "416        270333  ...                                Tuskegee University\n",
              "9024       267680  ...                                  Boston University\n",
              "3841       266826  ...                  University of Southern California\n",
              "28783      265000  ...                               Creighton University\n",
              "30794      263704  ...                             Stony Brook University\n",
              "26350      263037  ...                                  Drexel University\n",
              "5899       261732  ...  Kansas City University of Medicine and Bioscie...\n",
              "6061       261732  ...  Kansas City University of Medicine and Bioscie...\n",
              "13096      260963  ...                                   Adler University\n",
              "30263      258647  ...                   New York Institute of Technology\n",
              "6654       256445  ...                University of Minnesota-Twin Cities\n",
              "10153      254525  ...                                   Barry University\n",
              "31149      250667  ...                                      Touro College\n",
              "27362      250334  ...       Philadelphia College of Osteopathic Medicine\n",
              "12290      248672  ...                       Morehouse School of Medicine\n",
              "19550      248418  ...                           University of Louisville\n",
              "13445      248114  ...                  University of Illinois at Chicago\n",
              "18067      247375  ...   Des Moines University-Osteopathic Medical Center\n",
              "3403       247369  ...                               Palo Alto University\n",
              "21683      244739  ...                          Michigan State University\n",
              "3119       242487  ...              Western University of Health Sciences\n",
              "8025       238253  ...      University of Oklahoma-Health Sciences Center\n",
              "8104       238253  ...               University of Oklahoma-Norman Campus\n",
              "10681      237972  ...                              University of Florida\n",
              "\n",
              "[50 rows x 4 columns]"
            ]
          },
          "metadata": {
            "tags": []
          },
          "execution_count": 10
        }
      ]
    },
    {
      "cell_type": "code",
      "metadata": {
        "colab": {
          "base_uri": "https://localhost:8080/",
          "height": 559
        },
        "id": "lGgt75PwfVe2",
        "outputId": "f725d208-f02f-49db-feb8-56b5941f9171"
      },
      "source": [
        "top_debt['CIPDESC'].value_counts().plot(kind=\"bar\")"
      ],
      "execution_count": null,
      "outputs": [
        {
          "output_type": "execute_result",
          "data": {
            "text/plain": [
              "<matplotlib.axes._subplots.AxesSubplot at 0x7f7922f12690>"
            ]
          },
          "metadata": {
            "tags": []
          },
          "execution_count": 26
        },
        {
          "output_type": "display_data",
          "data": {
            "image/png": "[encoded data removed]",
            "text/plain": [
              "<Figure size 432x288 with 1 Axes>"
            ]
          },
          "metadata": {
            "tags": [],
            "needs_background": "light"
          }
        }
      ]
    },
    {
      "cell_type": "code",
      "metadata": {
        "colab": {
          "base_uri": "https://localhost:8080/"
        },
        "id": "Pa21V1cJUv4T",
        "outputId": "55a26fab-bbcd-4fcc-d5b9-be4c4062b45f"
      },
      "source": [
        "college_df.groupby('CIPDESC')['DEBTMEDIAN'].nunique().nlargest(5)"
      ],
      "execution_count": null,
      "outputs": [
        {
          "output_type": "execute_result",
          "data": {
            "text/plain": [
              "CIPDESC\n",
              "Business Administration, Management and Operations.                                   1229\n",
              "Registered Nursing, Nursing Administration, Nursing Research and Clinical Nursing.    1195\n",
              "Liberal Arts and Sciences, General Studies and Humanities.                             594\n",
              "Teacher Education and Professional Development, Specific Levels and Methods.           575\n",
              "Accounting and Related Services.                                                       538\n",
              "Name: DEBTMEDIAN, dtype: int64"
            ]
          },
          "metadata": {
            "tags": []
          },
          "execution_count": 25
        }
      ]
    },
    {
      "cell_type": "markdown",
      "metadata": {
        "id": "FHrp8S9Zj_VC"
      },
      "source": [
        "Takeaway points:<br>\n",
        "1. Study fields 'Dentistry', 'Osteopathy' and 'Medicine' top the list of students left with highest amount of debt after graduation.<br>\n",
        "2. Study fields 'Business Administration', 'Registered Nursing and Nursing Research' and 'Liberal Arts and Sciences' have left highest number of students with debt."
      ]
    },
    {
      "cell_type": "code",
      "metadata": {
        "id": "wamjvM8Wh0WD"
      },
      "source": [
        ""
      ],
      "execution_count": null,
      "outputs": []
    },
    {
      "cell_type": "markdown",
      "metadata": {
        "id": "x8d6uUKhoYvO"
      },
      "source": [
        "Q3. Bachelor's vs Master's vs Doctoral degree: which degree leads to high earning and less debt?"
      ]
    },
    {
      "cell_type": "code",
      "metadata": {
        "colab": {
          "base_uri": "https://localhost:8080/"
        },
        "id": "1VwICpu6oRxs",
        "outputId": "00fb3ef2-76c1-49cb-8e3c-ca6f0eded07e"
      },
      "source": [
        "college_df['CIPDESC'].nunique()"
      ],
      "execution_count": null,
      "outputs": [
        {
          "output_type": "execute_result",
          "data": {
            "text/plain": [
              "317"
            ]
          },
          "metadata": {
            "tags": []
          },
          "execution_count": 36
        }
      ]
    },
    {
      "cell_type": "code",
      "metadata": {
        "id": "z7T3MHVPxLA8"
      },
      "source": [
        "import matplotlib.pyplot as plt\n",
        "import seaborn as sns"
      ],
      "execution_count": null,
      "outputs": []
    },
    {
      "cell_type": "code",
      "metadata": {
        "id": "5L21s4Z-xJGz"
      },
      "source": [
        "degrees = [\"Bachelors Degree\",\"Master's Degree\",\"Doctoral Degree\"]\n",
        "college_df_req = college_df[college_df.CREDDESC.isin(degrees)]"
      ],
      "execution_count": null,
      "outputs": []
    },
    {
      "cell_type": "code",
      "metadata": {
        "colab": {
          "base_uri": "https://localhost:8080/",
          "height": 530
        },
        "id": "esZ4aMGcouNl",
        "outputId": "8edf48f1-50e5-4eef-9535-d06694869fe8"
      },
      "source": [
        "plt.figure(figsize=(20, 7))\n",
        "plt.title(\"Median earnings after graduation\")  \n",
        "sns.boxplot(y='CREDDESC', x='MD_EARN_WNE', \n",
        "                 data=college_df_req,\n",
        "                 palette=\"colorblind\",\n",
        "                hue='CREDDESC')"
      ],
      "execution_count": null,
      "outputs": [
        {
          "output_type": "execute_result",
          "data": {
            "text/plain": [
              "<matplotlib.axes._subplots.AxesSubplot at 0x7f78f7c91290>"
            ]
          },
          "metadata": {
            "tags": []
          },
          "execution_count": 60
        },
        {
          "output_type": "stream",
          "text": [
            "/usr/local/lib/python3.7/dist-packages/matplotlib/backends/backend_agg.py:214: RuntimeWarning: Glyph 146 missing from current font.\n",
            "  font.set_text(s, 0.0, flags=flags)\n",
            "/usr/local/lib/python3.7/dist-packages/matplotlib/backends/backend_agg.py:183: RuntimeWarning: Glyph 146 missing from current font.\n",
            "  font.set_text(s, 0, flags=flags)\n"
          ],
          "name": "stderr"
        },
        {
          "output_type": "display_data",
          "data": {
            "image/png": "[encoded data removed]",
            "text/plain": [
              "<Figure size 1440x504 with 1 Axes>"
            ]
          },
          "metadata": {
            "tags": [],
            "needs_background": "light"
          }
        }
      ]
    },
    {
      "cell_type": "code",
      "metadata": {
        "colab": {
          "base_uri": "https://localhost:8080/",
          "height": 529
        },
        "id": "SX_a6wsQah8e",
        "outputId": "ae553b13-4ee2-4dd8-dca6-4c610978d46d"
      },
      "source": [
        "plt.figure(figsize=(20, 7))\n",
        "plt.title(\"Median debt of students after graduation\")\n",
        "sns.boxplot(y='CREDDESC', x='DEBTMEDIAN', \n",
        "                 data=college_df_req,\n",
        "                 palette=\"colorblind\",\n",
        "                hue='CREDDESC')"
      ],
      "execution_count": null,
      "outputs": [
        {
          "output_type": "execute_result",
          "data": {
            "text/plain": [
              "<matplotlib.axes._subplots.AxesSubplot at 0x7f78f7c91710>"
            ]
          },
          "metadata": {
            "tags": []
          },
          "execution_count": 61
        },
        {
          "output_type": "stream",
          "text": [
            "/usr/local/lib/python3.7/dist-packages/matplotlib/backends/backend_agg.py:214: RuntimeWarning: Glyph 146 missing from current font.\n",
            "  font.set_text(s, 0.0, flags=flags)\n",
            "/usr/local/lib/python3.7/dist-packages/matplotlib/backends/backend_agg.py:183: RuntimeWarning: Glyph 146 missing from current font.\n",
            "  font.set_text(s, 0, flags=flags)\n"
          ],
          "name": "stderr"
        },
        {
          "output_type": "display_data",
          "data": {
            "image/png": "[encoded data removed]",
            "text/plain": [
              "<Figure size 1440x504 with 1 Axes>"
            ]
          },
          "metadata": {
            "tags": [],
            "needs_background": "light"
          }
        }
      ]
    },
    {
      "cell_type": "markdown",
      "metadata": {
        "id": "23S0ycLJbxPF"
      },
      "source": [
        "After comparing the box plots, we can conclude there is no degree which leaves a student with high earning and less debt. Students having a higher degree seem to have both high pay and high debt and vice versa."
      ]
    },
    {
      "cell_type": "code",
      "metadata": {
        "id": "iJtm4DaqFOjW"
      },
      "source": [
        ""
      ],
      "execution_count": null,
      "outputs": []
    }
  ]
}