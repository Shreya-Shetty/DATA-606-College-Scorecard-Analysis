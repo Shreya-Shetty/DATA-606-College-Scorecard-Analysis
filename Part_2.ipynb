{
  "nbformat": 4,
  "nbformat_minor": 0,
  "metadata": {
    "colab": {
      "name": "Part-2.ipynb",
      "provenance": [],
      "collapsed_sections": []
    },
    "kernelspec": {
      "name": "python3",
      "display_name": "Python 3"
    },
    "language_info": {
      "name": "python"
    }
  },
  "cells": [
    {
      "cell_type": "code",
      "metadata": {
        "id": "8rHySKSKkQ8L"
      },
      "source": [
        "import pandas as pd\n",
        "import numpy as np\n",
        "from sklearn.preprocessing import MinMaxScaler\n",
        "from sklearn.cluster import KMeans\n",
        "import matplotlib.pyplot as plt\n",
        "import seaborn as sns"
      ],
      "execution_count": null,
      "outputs": []
    },
    {
      "cell_type": "code",
      "metadata": {
        "colab": {
          "base_uri": "https://localhost:8080/"
        },
        "id": "lrZV_B_sb8zp",
        "outputId": "ec9d3d99-30aa-4114-86af-fc4d294bcb3e"
      },
      "source": [
        "from google.colab import drive\n",
        "drive.mount('/content/drive')"
      ],
      "execution_count": null,
      "outputs": [
        {
          "output_type": "stream",
          "text": [
            "Mounted at /content/drive\n"
          ],
          "name": "stdout"
        }
      ]
    },
    {
      "cell_type": "code",
      "metadata": {
        "id": "2zqii9XMkC9t"
      },
      "source": [
        "college_df = pd.read_csv(r'/content/drive/My Drive/DATA 606/Final.csv')"
      ],
      "execution_count": null,
      "outputs": []
    },
    {
      "cell_type": "code",
      "metadata": {
        "colab": {
          "base_uri": "https://localhost:8080/",
          "height": 484
        },
        "id": "I9Fo2SQ0kN70",
        "outputId": "7bb19389-3498-48ac-bc47-036403136ea0"
      },
      "source": [
        "college_df.head()"
      ],
      "execution_count": null,
      "outputs": [
        {
          "output_type": "execute_result",
          "data": {
            "text/html": [
              "<div>\n",
              "<style scoped>\n",
              "    .dataframe tbody tr th:only-of-type {\n",
              "        vertical-align: middle;\n",
              "    }\n",
              "\n",
              "    .dataframe tbody tr th {\n",
              "        vertical-align: top;\n",
              "    }\n",
              "\n",
              "    .dataframe thead th {\n",
              "        text-align: right;\n",
              "    }\n",
              "</style>\n",
              "<table border=\"1\" class=\"dataframe\">\n",
              "  <thead>\n",
              "    <tr style=\"text-align: right;\">\n",
              "      <th></th>\n",
              "      <th>Unnamed: 0</th>\n",
              "      <th>Unnamed: 0.1</th>\n",
              "      <th>UNITID</th>\n",
              "      <th>OPEID6</th>\n",
              "      <th>INSTNM</th>\n",
              "      <th>CONTROL</th>\n",
              "      <th>MAIN</th>\n",
              "      <th>CIPCODE</th>\n",
              "      <th>CIPDESC</th>\n",
              "      <th>CREDLEV</th>\n",
              "      <th>CREDDESC</th>\n",
              "      <th>COUNT</th>\n",
              "      <th>DEBTMEDIAN</th>\n",
              "      <th>DEBTPAYMENT10YR</th>\n",
              "      <th>DEBTMEAN</th>\n",
              "      <th>TITLEIVCOUNT</th>\n",
              "      <th>EARNINGSCOUNT</th>\n",
              "      <th>MD_EARN_WNE</th>\n",
              "      <th>IPEDSCOUNT1</th>\n",
              "      <th>IPEDSCOUNT2</th>\n",
              "      <th>CITY</th>\n",
              "      <th>STATE</th>\n",
              "      <th>ZIP</th>\n",
              "      <th>TUITFTE</th>\n",
              "      <th>INEXPFTE</th>\n",
              "      <th>ACCREDAGENCY</th>\n",
              "      <th>FTFTPCTPELL</th>\n",
              "      <th>cost_living_index_2020</th>\n",
              "      <th>relative_value_dollar_2017</th>\n",
              "      <th>national_rank</th>\n",
              "    </tr>\n",
              "  </thead>\n",
              "  <tbody>\n",
              "    <tr>\n",
              "      <th>0</th>\n",
              "      <td>0</td>\n",
              "      <td>62</td>\n",
              "      <td>100663.0</td>\n",
              "      <td>1052</td>\n",
              "      <td>University of Alabama at Birmingham</td>\n",
              "      <td>Public</td>\n",
              "      <td>1</td>\n",
              "      <td>901</td>\n",
              "      <td>Communication and Media Studies</td>\n",
              "      <td>3</td>\n",
              "      <td>Bachelor's Degree</td>\n",
              "      <td>86</td>\n",
              "      <td>21474</td>\n",
              "      <td>223</td>\n",
              "      <td>21667</td>\n",
              "      <td>92</td>\n",
              "      <td>84</td>\n",
              "      <td>26300</td>\n",
              "      <td>80.0</td>\n",
              "      <td>85.0</td>\n",
              "      <td>Birmingham</td>\n",
              "      <td>AL</td>\n",
              "      <td>35294-0110</td>\n",
              "      <td>13177.0</td>\n",
              "      <td>16454.0</td>\n",
              "      <td>Southern Association of Colleges and Schools C...</td>\n",
              "      <td>0.3788</td>\n",
              "      <td>89.4</td>\n",
              "      <td>115.34</td>\n",
              "      <td>71.0</td>\n",
              "    </tr>\n",
              "    <tr>\n",
              "      <th>1</th>\n",
              "      <td>1</td>\n",
              "      <td>64</td>\n",
              "      <td>100663.0</td>\n",
              "      <td>1052</td>\n",
              "      <td>University of Alabama at Birmingham</td>\n",
              "      <td>Public</td>\n",
              "      <td>1</td>\n",
              "      <td>1101</td>\n",
              "      <td>Computer and Information Sciences, General</td>\n",
              "      <td>3</td>\n",
              "      <td>Bachelor's Degree</td>\n",
              "      <td>36</td>\n",
              "      <td>27750</td>\n",
              "      <td>288</td>\n",
              "      <td>25889</td>\n",
              "      <td>34</td>\n",
              "      <td>34</td>\n",
              "      <td>56900</td>\n",
              "      <td>30.0</td>\n",
              "      <td>35.0</td>\n",
              "      <td>Birmingham</td>\n",
              "      <td>AL</td>\n",
              "      <td>35294-0110</td>\n",
              "      <td>13177.0</td>\n",
              "      <td>16454.0</td>\n",
              "      <td>Southern Association of Colleges and Schools C...</td>\n",
              "      <td>0.3788</td>\n",
              "      <td>89.4</td>\n",
              "      <td>115.34</td>\n",
              "      <td>71.0</td>\n",
              "    </tr>\n",
              "    <tr>\n",
              "      <th>2</th>\n",
              "      <td>2</td>\n",
              "      <td>69</td>\n",
              "      <td>100663.0</td>\n",
              "      <td>1052</td>\n",
              "      <td>University of Alabama at Birmingham</td>\n",
              "      <td>Public</td>\n",
              "      <td>1</td>\n",
              "      <td>1304</td>\n",
              "      <td>Educational Administration and Supervision</td>\n",
              "      <td>5</td>\n",
              "      <td>Master's Degree</td>\n",
              "      <td>41</td>\n",
              "      <td>22601</td>\n",
              "      <td>263</td>\n",
              "      <td>25440</td>\n",
              "      <td>48</td>\n",
              "      <td>48</td>\n",
              "      <td>50500</td>\n",
              "      <td>58.0</td>\n",
              "      <td>11.0</td>\n",
              "      <td>Birmingham</td>\n",
              "      <td>AL</td>\n",
              "      <td>35294-0110</td>\n",
              "      <td>13177.0</td>\n",
              "      <td>16454.0</td>\n",
              "      <td>Southern Association of Colleges and Schools C...</td>\n",
              "      <td>0.3788</td>\n",
              "      <td>89.4</td>\n",
              "      <td>115.34</td>\n",
              "      <td>71.0</td>\n",
              "    </tr>\n",
              "    <tr>\n",
              "      <th>3</th>\n",
              "      <td>3</td>\n",
              "      <td>72</td>\n",
              "      <td>100663.0</td>\n",
              "      <td>1052</td>\n",
              "      <td>University of Alabama at Birmingham</td>\n",
              "      <td>Public</td>\n",
              "      <td>1</td>\n",
              "      <td>1304</td>\n",
              "      <td>Educational Administration and Supervision</td>\n",
              "      <td>8</td>\n",
              "      <td>Graduate/Professional Certificate</td>\n",
              "      <td>22</td>\n",
              "      <td>57346</td>\n",
              "      <td>668</td>\n",
              "      <td>56814</td>\n",
              "      <td>22</td>\n",
              "      <td>22</td>\n",
              "      <td>57200</td>\n",
              "      <td>28.0</td>\n",
              "      <td>7.0</td>\n",
              "      <td>Birmingham</td>\n",
              "      <td>AL</td>\n",
              "      <td>35294-0110</td>\n",
              "      <td>13177.0</td>\n",
              "      <td>16454.0</td>\n",
              "      <td>Southern Association of Colleges and Schools C...</td>\n",
              "      <td>0.3788</td>\n",
              "      <td>89.4</td>\n",
              "      <td>115.34</td>\n",
              "      <td>71.0</td>\n",
              "    </tr>\n",
              "    <tr>\n",
              "      <th>4</th>\n",
              "      <td>4</td>\n",
              "      <td>73</td>\n",
              "      <td>100663.0</td>\n",
              "      <td>1052</td>\n",
              "      <td>University of Alabama at Birmingham</td>\n",
              "      <td>Public</td>\n",
              "      <td>1</td>\n",
              "      <td>1310</td>\n",
              "      <td>Special Education and Teaching</td>\n",
              "      <td>5</td>\n",
              "      <td>Master's Degree</td>\n",
              "      <td>36</td>\n",
              "      <td>28218</td>\n",
              "      <td>329</td>\n",
              "      <td>28717</td>\n",
              "      <td>27</td>\n",
              "      <td>27</td>\n",
              "      <td>43700</td>\n",
              "      <td>29.0</td>\n",
              "      <td>28.0</td>\n",
              "      <td>Birmingham</td>\n",
              "      <td>AL</td>\n",
              "      <td>35294-0110</td>\n",
              "      <td>13177.0</td>\n",
              "      <td>16454.0</td>\n",
              "      <td>Southern Association of Colleges and Schools C...</td>\n",
              "      <td>0.3788</td>\n",
              "      <td>89.4</td>\n",
              "      <td>115.34</td>\n",
              "      <td>71.0</td>\n",
              "    </tr>\n",
              "  </tbody>\n",
              "</table>\n",
              "</div>"
            ],
            "text/plain": [
              "   Unnamed: 0  Unnamed: 0.1  ...  relative_value_dollar_2017  national_rank\n",
              "0           0            62  ...                      115.34           71.0\n",
              "1           1            64  ...                      115.34           71.0\n",
              "2           2            69  ...                      115.34           71.0\n",
              "3           3            72  ...                      115.34           71.0\n",
              "4           4            73  ...                      115.34           71.0\n",
              "\n",
              "[5 rows x 30 columns]"
            ]
          },
          "metadata": {
            "tags": []
          },
          "execution_count": 4
        }
      ]
    },
    {
      "cell_type": "code",
      "metadata": {
        "id": "c7YLfEMbds_i"
      },
      "source": [
        "college_df=college_df.drop(columns=['Unnamed: 0',\t'Unnamed: 0.1'])"
      ],
      "execution_count": null,
      "outputs": []
    },
    {
      "cell_type": "markdown",
      "metadata": {
        "id": "aKpXG59Jr6p4"
      },
      "source": [
        "I will be creating a new attribute named 'Financial Factor'. This factor is a difference in the amount of money a student earns after graduation annually minus the amount of money a student spends for tuition and living in a year. <br>\n",
        "As the factor increases, the amount of money a student is saving increases. A negative value implies the student is at loss, meaning the student ended up spending more on education and is earning less after graduation.\n",
        "\n"
      ]
    },
    {
      "cell_type": "code",
      "metadata": {
        "id": "Ovzlq-FLPAk5"
      },
      "source": [
        "college_df['financial_factor']=college_df['MD_EARN_WNE']-college_df['TUITFTE']-college_df['INEXPFTE']"
      ],
      "execution_count": null,
      "outputs": []
    },
    {
      "cell_type": "markdown",
      "metadata": {
        "id": "BDwyUsGRtI-m"
      },
      "source": [
        "Plotting the financial factor against the cost of living index to see how the universities are distributed."
      ]
    },
    {
      "cell_type": "code",
      "metadata": {
        "colab": {
          "base_uri": "https://localhost:8080/",
          "height": 457
        },
        "id": "I2Ut6_ceFVJR",
        "outputId": "6056bfe2-7e52-4f9d-9534-527e483538a9"
      },
      "source": [
        "sns.lmplot('financial_factor','cost_living_index_2020',\n",
        "           data=college_df,\n",
        "           fit_reg=False,\n",
        "           )"
      ],
      "execution_count": null,
      "outputs": [
        {
          "output_type": "stream",
          "text": [
            "/usr/local/lib/python3.7/dist-packages/seaborn/_decorators.py:43: FutureWarning: Pass the following variables as keyword args: x, y. From version 0.12, the only valid positional argument will be `data`, and passing other arguments without an explicit keyword will result in an error or misinterpretation.\n",
            "  FutureWarning\n"
          ],
          "name": "stderr"
        },
        {
          "output_type": "execute_result",
          "data": {
            "text/plain": [
              "<seaborn.axisgrid.FacetGrid at 0x7fbdf34af7d0>"
            ]
          },
          "metadata": {
            "tags": []
          },
          "execution_count": 7
        },
        {
          "output_type": "display_data",
          "data": {
            "image/png": "[encoded data removed]",
            "text/plain": [
              "<Figure size 360x360 with 1 Axes>"
            ]
          },
          "metadata": {
            "tags": [],
            "needs_background": "light"
          }
        }
      ]
    },
    {
      "cell_type": "code",
      "metadata": {
        "colab": {
          "base_uri": "https://localhost:8080/"
        },
        "id": "18wtbTKdFn3C",
        "outputId": "43fc30e0-6561-4f52-b217-67a68a7ffcb4"
      },
      "source": [
        "college_df['financial_factor'].min()"
      ],
      "execution_count": null,
      "outputs": [
        {
          "output_type": "execute_result",
          "data": {
            "text/plain": [
              "-477826.0"
            ]
          },
          "metadata": {
            "tags": []
          },
          "execution_count": 8
        }
      ]
    },
    {
      "cell_type": "code",
      "metadata": {
        "id": "3-QFONJR9JPw",
        "colab": {
          "base_uri": "https://localhost:8080/",
          "height": 164
        },
        "outputId": "8f6f8b3f-56e6-4526-a289-a46ff3f968c2"
      },
      "source": [
        "college_df[college_df['financial_factor']==-477826.0]"
      ],
      "execution_count": null,
      "outputs": [
        {
          "output_type": "execute_result",
          "data": {
            "text/html": [
              "<div>\n",
              "<style scoped>\n",
              "    .dataframe tbody tr th:only-of-type {\n",
              "        vertical-align: middle;\n",
              "    }\n",
              "\n",
              "    .dataframe tbody tr th {\n",
              "        vertical-align: top;\n",
              "    }\n",
              "\n",
              "    .dataframe thead th {\n",
              "        text-align: right;\n",
              "    }\n",
              "</style>\n",
              "<table border=\"1\" class=\"dataframe\">\n",
              "  <thead>\n",
              "    <tr style=\"text-align: right;\">\n",
              "      <th></th>\n",
              "      <th>UNITID</th>\n",
              "      <th>OPEID6</th>\n",
              "      <th>INSTNM</th>\n",
              "      <th>CONTROL</th>\n",
              "      <th>MAIN</th>\n",
              "      <th>CIPCODE</th>\n",
              "      <th>CIPDESC</th>\n",
              "      <th>CREDLEV</th>\n",
              "      <th>CREDDESC</th>\n",
              "      <th>COUNT</th>\n",
              "      <th>DEBTMEDIAN</th>\n",
              "      <th>DEBTPAYMENT10YR</th>\n",
              "      <th>DEBTMEAN</th>\n",
              "      <th>TITLEIVCOUNT</th>\n",
              "      <th>EARNINGSCOUNT</th>\n",
              "      <th>MD_EARN_WNE</th>\n",
              "      <th>IPEDSCOUNT1</th>\n",
              "      <th>IPEDSCOUNT2</th>\n",
              "      <th>CITY</th>\n",
              "      <th>STATE</th>\n",
              "      <th>ZIP</th>\n",
              "      <th>TUITFTE</th>\n",
              "      <th>INEXPFTE</th>\n",
              "      <th>ACCREDAGENCY</th>\n",
              "      <th>FTFTPCTPELL</th>\n",
              "      <th>cost_living_index_2020</th>\n",
              "      <th>relative_value_dollar_2017</th>\n",
              "      <th>national_rank</th>\n",
              "      <th>financial_factor</th>\n",
              "    </tr>\n",
              "  </thead>\n",
              "  <tbody>\n",
              "    <tr>\n",
              "      <th>3347</th>\n",
              "      <td>228635.0</td>\n",
              "      <td>10019</td>\n",
              "      <td>University of Texas Southwestern Medical Center</td>\n",
              "      <td>Public</td>\n",
              "      <td>1</td>\n",
              "      <td>5112</td>\n",
              "      <td>Medicine</td>\n",
              "      <td>7</td>\n",
              "      <td>First Professional Degree</td>\n",
              "      <td>284</td>\n",
              "      <td>128845</td>\n",
              "      <td>1501</td>\n",
              "      <td>119168</td>\n",
              "      <td>318</td>\n",
              "      <td>317</td>\n",
              "      <td>55600</td>\n",
              "      <td>221.0</td>\n",
              "      <td>213.0</td>\n",
              "      <td>Dallas</td>\n",
              "      <td>TX</td>\n",
              "      <td>75390-9096</td>\n",
              "      <td>12874.0</td>\n",
              "      <td>520552.0</td>\n",
              "      <td>Southern Association of Colleges and Schools C...</td>\n",
              "      <td>NaN</td>\n",
              "      <td>92.3</td>\n",
              "      <td>103.09</td>\n",
              "      <td>36.0</td>\n",
              "      <td>-477826.0</td>\n",
              "    </tr>\n",
              "  </tbody>\n",
              "</table>\n",
              "</div>"
            ],
            "text/plain": [
              "        UNITID  OPEID6  ... national_rank financial_factor\n",
              "3347  228635.0   10019  ...          36.0        -477826.0\n",
              "\n",
              "[1 rows x 29 columns]"
            ]
          },
          "metadata": {
            "tags": []
          },
          "execution_count": 9
        }
      ]
    },
    {
      "cell_type": "markdown",
      "metadata": {
        "id": "W3LUhUt0Ga-f"
      },
      "source": [
        "Since there is only one outlier, I will be dropping the row."
      ]
    },
    {
      "cell_type": "code",
      "metadata": {
        "id": "aPrMwrbV_SeY"
      },
      "source": [
        "college_df.drop(college_df[college_df['financial_factor']==-477826.0].index, inplace=True)"
      ],
      "execution_count": null,
      "outputs": []
    },
    {
      "cell_type": "markdown",
      "metadata": {
        "id": "FJGWiXKCDEUm"
      },
      "source": [
        "Scaling the columns: While training the machine learning model, if the numerical columns are not scaled, the algorithm tends to give higher values more weight than the small values irrespective of the units. To avoid this problem, I have scaled the financial factor and cost of living columns.\n"
      ]
    },
    {
      "cell_type": "code",
      "metadata": {
        "id": "Avpo7potOJuw"
      },
      "source": [
        "min_max_scaler = MinMaxScaler()\n",
        "college_df[['cost_living_index_2020_scaled']] = min_max_scaler.fit_transform(college_df[['cost_living_index_2020']])\n",
        "college_df[['financial_factor_scaled']] = min_max_scaler.fit_transform(college_df[['financial_factor']])"
      ],
      "execution_count": null,
      "outputs": []
    },
    {
      "cell_type": "code",
      "metadata": {
        "colab": {
          "base_uri": "https://localhost:8080/",
          "height": 467
        },
        "id": "dLvXAsG_UihY",
        "outputId": "4fd092f2-477a-4d5c-8073-ff28fff823cd"
      },
      "source": [
        "college_df.head()"
      ],
      "execution_count": null,
      "outputs": [
        {
          "output_type": "execute_result",
          "data": {
            "text/html": [
              "<div>\n",
              "<style scoped>\n",
              "    .dataframe tbody tr th:only-of-type {\n",
              "        vertical-align: middle;\n",
              "    }\n",
              "\n",
              "    .dataframe tbody tr th {\n",
              "        vertical-align: top;\n",
              "    }\n",
              "\n",
              "    .dataframe thead th {\n",
              "        text-align: right;\n",
              "    }\n",
              "</style>\n",
              "<table border=\"1\" class=\"dataframe\">\n",
              "  <thead>\n",
              "    <tr style=\"text-align: right;\">\n",
              "      <th></th>\n",
              "      <th>UNITID</th>\n",
              "      <th>OPEID6</th>\n",
              "      <th>INSTNM</th>\n",
              "      <th>CONTROL</th>\n",
              "      <th>MAIN</th>\n",
              "      <th>CIPCODE</th>\n",
              "      <th>CIPDESC</th>\n",
              "      <th>CREDLEV</th>\n",
              "      <th>CREDDESC</th>\n",
              "      <th>COUNT</th>\n",
              "      <th>DEBTMEDIAN</th>\n",
              "      <th>DEBTPAYMENT10YR</th>\n",
              "      <th>DEBTMEAN</th>\n",
              "      <th>TITLEIVCOUNT</th>\n",
              "      <th>EARNINGSCOUNT</th>\n",
              "      <th>MD_EARN_WNE</th>\n",
              "      <th>IPEDSCOUNT1</th>\n",
              "      <th>IPEDSCOUNT2</th>\n",
              "      <th>CITY</th>\n",
              "      <th>STATE</th>\n",
              "      <th>ZIP</th>\n",
              "      <th>TUITFTE</th>\n",
              "      <th>INEXPFTE</th>\n",
              "      <th>ACCREDAGENCY</th>\n",
              "      <th>FTFTPCTPELL</th>\n",
              "      <th>cost_living_index_2020</th>\n",
              "      <th>relative_value_dollar_2017</th>\n",
              "      <th>national_rank</th>\n",
              "      <th>financial_factor</th>\n",
              "      <th>cost_living_index_2020_scaled</th>\n",
              "      <th>financial_factor_scaled</th>\n",
              "    </tr>\n",
              "  </thead>\n",
              "  <tbody>\n",
              "    <tr>\n",
              "      <th>0</th>\n",
              "      <td>100663.0</td>\n",
              "      <td>1052</td>\n",
              "      <td>University of Alabama at Birmingham</td>\n",
              "      <td>Public</td>\n",
              "      <td>1</td>\n",
              "      <td>901</td>\n",
              "      <td>Communication and Media Studies</td>\n",
              "      <td>3</td>\n",
              "      <td>Bachelor's Degree</td>\n",
              "      <td>86</td>\n",
              "      <td>21474</td>\n",
              "      <td>223</td>\n",
              "      <td>21667</td>\n",
              "      <td>92</td>\n",
              "      <td>84</td>\n",
              "      <td>26300</td>\n",
              "      <td>80.0</td>\n",
              "      <td>85.0</td>\n",
              "      <td>Birmingham</td>\n",
              "      <td>AL</td>\n",
              "      <td>35294-0110</td>\n",
              "      <td>13177.0</td>\n",
              "      <td>16454.0</td>\n",
              "      <td>Southern Association of Colleges and Schools C...</td>\n",
              "      <td>0.3788</td>\n",
              "      <td>89.4</td>\n",
              "      <td>115.34</td>\n",
              "      <td>71.0</td>\n",
              "      <td>-3331.0</td>\n",
              "      <td>0.041256</td>\n",
              "      <td>0.377895</td>\n",
              "    </tr>\n",
              "    <tr>\n",
              "      <th>1</th>\n",
              "      <td>100663.0</td>\n",
              "      <td>1052</td>\n",
              "      <td>University of Alabama at Birmingham</td>\n",
              "      <td>Public</td>\n",
              "      <td>1</td>\n",
              "      <td>1101</td>\n",
              "      <td>Computer and Information Sciences, General</td>\n",
              "      <td>3</td>\n",
              "      <td>Bachelor's Degree</td>\n",
              "      <td>36</td>\n",
              "      <td>27750</td>\n",
              "      <td>288</td>\n",
              "      <td>25889</td>\n",
              "      <td>34</td>\n",
              "      <td>34</td>\n",
              "      <td>56900</td>\n",
              "      <td>30.0</td>\n",
              "      <td>35.0</td>\n",
              "      <td>Birmingham</td>\n",
              "      <td>AL</td>\n",
              "      <td>35294-0110</td>\n",
              "      <td>13177.0</td>\n",
              "      <td>16454.0</td>\n",
              "      <td>Southern Association of Colleges and Schools C...</td>\n",
              "      <td>0.3788</td>\n",
              "      <td>89.4</td>\n",
              "      <td>115.34</td>\n",
              "      <td>71.0</td>\n",
              "      <td>27269.0</td>\n",
              "      <td>0.041256</td>\n",
              "      <td>0.500716</td>\n",
              "    </tr>\n",
              "    <tr>\n",
              "      <th>2</th>\n",
              "      <td>100663.0</td>\n",
              "      <td>1052</td>\n",
              "      <td>University of Alabama at Birmingham</td>\n",
              "      <td>Public</td>\n",
              "      <td>1</td>\n",
              "      <td>1304</td>\n",
              "      <td>Educational Administration and Supervision</td>\n",
              "      <td>5</td>\n",
              "      <td>Master's Degree</td>\n",
              "      <td>41</td>\n",
              "      <td>22601</td>\n",
              "      <td>263</td>\n",
              "      <td>25440</td>\n",
              "      <td>48</td>\n",
              "      <td>48</td>\n",
              "      <td>50500</td>\n",
              "      <td>58.0</td>\n",
              "      <td>11.0</td>\n",
              "      <td>Birmingham</td>\n",
              "      <td>AL</td>\n",
              "      <td>35294-0110</td>\n",
              "      <td>13177.0</td>\n",
              "      <td>16454.0</td>\n",
              "      <td>Southern Association of Colleges and Schools C...</td>\n",
              "      <td>0.3788</td>\n",
              "      <td>89.4</td>\n",
              "      <td>115.34</td>\n",
              "      <td>71.0</td>\n",
              "      <td>20869.0</td>\n",
              "      <td>0.041256</td>\n",
              "      <td>0.475028</td>\n",
              "    </tr>\n",
              "    <tr>\n",
              "      <th>3</th>\n",
              "      <td>100663.0</td>\n",
              "      <td>1052</td>\n",
              "      <td>University of Alabama at Birmingham</td>\n",
              "      <td>Public</td>\n",
              "      <td>1</td>\n",
              "      <td>1304</td>\n",
              "      <td>Educational Administration and Supervision</td>\n",
              "      <td>8</td>\n",
              "      <td>Graduate/Professional Certificate</td>\n",
              "      <td>22</td>\n",
              "      <td>57346</td>\n",
              "      <td>668</td>\n",
              "      <td>56814</td>\n",
              "      <td>22</td>\n",
              "      <td>22</td>\n",
              "      <td>57200</td>\n",
              "      <td>28.0</td>\n",
              "      <td>7.0</td>\n",
              "      <td>Birmingham</td>\n",
              "      <td>AL</td>\n",
              "      <td>35294-0110</td>\n",
              "      <td>13177.0</td>\n",
              "      <td>16454.0</td>\n",
              "      <td>Southern Association of Colleges and Schools C...</td>\n",
              "      <td>0.3788</td>\n",
              "      <td>89.4</td>\n",
              "      <td>115.34</td>\n",
              "      <td>71.0</td>\n",
              "      <td>27569.0</td>\n",
              "      <td>0.041256</td>\n",
              "      <td>0.501921</td>\n",
              "    </tr>\n",
              "    <tr>\n",
              "      <th>4</th>\n",
              "      <td>100663.0</td>\n",
              "      <td>1052</td>\n",
              "      <td>University of Alabama at Birmingham</td>\n",
              "      <td>Public</td>\n",
              "      <td>1</td>\n",
              "      <td>1310</td>\n",
              "      <td>Special Education and Teaching</td>\n",
              "      <td>5</td>\n",
              "      <td>Master's Degree</td>\n",
              "      <td>36</td>\n",
              "      <td>28218</td>\n",
              "      <td>329</td>\n",
              "      <td>28717</td>\n",
              "      <td>27</td>\n",
              "      <td>27</td>\n",
              "      <td>43700</td>\n",
              "      <td>29.0</td>\n",
              "      <td>28.0</td>\n",
              "      <td>Birmingham</td>\n",
              "      <td>AL</td>\n",
              "      <td>35294-0110</td>\n",
              "      <td>13177.0</td>\n",
              "      <td>16454.0</td>\n",
              "      <td>Southern Association of Colleges and Schools C...</td>\n",
              "      <td>0.3788</td>\n",
              "      <td>89.4</td>\n",
              "      <td>115.34</td>\n",
              "      <td>71.0</td>\n",
              "      <td>14069.0</td>\n",
              "      <td>0.041256</td>\n",
              "      <td>0.447735</td>\n",
              "    </tr>\n",
              "  </tbody>\n",
              "</table>\n",
              "</div>"
            ],
            "text/plain": [
              "     UNITID  OPEID6  ... cost_living_index_2020_scaled financial_factor_scaled\n",
              "0  100663.0    1052  ...                      0.041256                0.377895\n",
              "1  100663.0    1052  ...                      0.041256                0.500716\n",
              "2  100663.0    1052  ...                      0.041256                0.475028\n",
              "3  100663.0    1052  ...                      0.041256                0.501921\n",
              "4  100663.0    1052  ...                      0.041256                0.447735\n",
              "\n",
              "[5 rows x 31 columns]"
            ]
          },
          "metadata": {
            "tags": []
          },
          "execution_count": 13
        }
      ]
    },
    {
      "cell_type": "code",
      "metadata": {
        "id": "PJPr5Sb3VztV"
      },
      "source": [
        ""
      ],
      "execution_count": null,
      "outputs": []
    },
    {
      "cell_type": "markdown",
      "metadata": {
        "id": "c7jR5qibbiW3"
      },
      "source": [
        "The goal of the project is to suggest universities based on the financial budget and the field of interest of the student. I want to divide the university suggestions into three categories: <br>\n",
        "1. The best universities: universities having a high financial factor and less cost of living <br>\n",
        "2. The safe options: Universities having a less financial factor and mediocre cost of living <br>\n",
        "3. The risky universities: These are the universities where the financial factor is very less and the cost of living is high\n",
        "<br> <br>\n",
        "To achieve this, I will be clustering the data points to see if the universities can be divided in an above-mentioned way. I have decided to use the K *means* clustering algorithm."
      ]
    },
    {
      "cell_type": "code",
      "metadata": {
        "id": "mI2I0PGWbsE2"
      },
      "source": [
        "km=KMeans(n_clusters=5,random_state=1)\n",
        "req_data=college_df[['financial_factor_scaled','cost_living_index_2020_scaled']]\n",
        "km.fit(req_data)\n",
        "predict=km.predict(req_data)"
      ],
      "execution_count": null,
      "outputs": []
    },
    {
      "cell_type": "code",
      "metadata": {
        "id": "MXHb5iIfcNgK"
      },
      "source": [
        "#I will be storing the cluster number as a column in the dataframe for future use\n",
        "\n",
        "college_df['cluster number']=predict"
      ],
      "execution_count": null,
      "outputs": []
    },
    {
      "cell_type": "code",
      "metadata": {
        "colab": {
          "base_uri": "https://localhost:8080/",
          "height": 484
        },
        "id": "RLPuHy_wcXEW",
        "outputId": "97d9f133-466d-413a-92c7-77b3aa584523"
      },
      "source": [
        "college_df.head()"
      ],
      "execution_count": null,
      "outputs": [
        {
          "output_type": "execute_result",
          "data": {
            "text/html": [
              "<div>\n",
              "<style scoped>\n",
              "    .dataframe tbody tr th:only-of-type {\n",
              "        vertical-align: middle;\n",
              "    }\n",
              "\n",
              "    .dataframe tbody tr th {\n",
              "        vertical-align: top;\n",
              "    }\n",
              "\n",
              "    .dataframe thead th {\n",
              "        text-align: right;\n",
              "    }\n",
              "</style>\n",
              "<table border=\"1\" class=\"dataframe\">\n",
              "  <thead>\n",
              "    <tr style=\"text-align: right;\">\n",
              "      <th></th>\n",
              "      <th>UNITID</th>\n",
              "      <th>OPEID6</th>\n",
              "      <th>INSTNM</th>\n",
              "      <th>CONTROL</th>\n",
              "      <th>MAIN</th>\n",
              "      <th>CIPCODE</th>\n",
              "      <th>CIPDESC</th>\n",
              "      <th>CREDLEV</th>\n",
              "      <th>CREDDESC</th>\n",
              "      <th>COUNT</th>\n",
              "      <th>DEBTMEDIAN</th>\n",
              "      <th>DEBTPAYMENT10YR</th>\n",
              "      <th>DEBTMEAN</th>\n",
              "      <th>TITLEIVCOUNT</th>\n",
              "      <th>EARNINGSCOUNT</th>\n",
              "      <th>MD_EARN_WNE</th>\n",
              "      <th>IPEDSCOUNT1</th>\n",
              "      <th>IPEDSCOUNT2</th>\n",
              "      <th>CITY</th>\n",
              "      <th>STATE</th>\n",
              "      <th>ZIP</th>\n",
              "      <th>TUITFTE</th>\n",
              "      <th>INEXPFTE</th>\n",
              "      <th>ACCREDAGENCY</th>\n",
              "      <th>FTFTPCTPELL</th>\n",
              "      <th>cost_living_index_2020</th>\n",
              "      <th>relative_value_dollar_2017</th>\n",
              "      <th>national_rank</th>\n",
              "      <th>financial_factor</th>\n",
              "      <th>cost_living_index_2020_scaled</th>\n",
              "      <th>financial_factor_scaled</th>\n",
              "      <th>cluster number</th>\n",
              "    </tr>\n",
              "  </thead>\n",
              "  <tbody>\n",
              "    <tr>\n",
              "      <th>0</th>\n",
              "      <td>100663.0</td>\n",
              "      <td>1052</td>\n",
              "      <td>University of Alabama at Birmingham</td>\n",
              "      <td>Public</td>\n",
              "      <td>1</td>\n",
              "      <td>901</td>\n",
              "      <td>Communication and Media Studies</td>\n",
              "      <td>3</td>\n",
              "      <td>Bachelor's Degree</td>\n",
              "      <td>86</td>\n",
              "      <td>21474</td>\n",
              "      <td>223</td>\n",
              "      <td>21667</td>\n",
              "      <td>92</td>\n",
              "      <td>84</td>\n",
              "      <td>26300</td>\n",
              "      <td>80.0</td>\n",
              "      <td>85.0</td>\n",
              "      <td>Birmingham</td>\n",
              "      <td>AL</td>\n",
              "      <td>35294-0110</td>\n",
              "      <td>13177.0</td>\n",
              "      <td>16454.0</td>\n",
              "      <td>Southern Association of Colleges and Schools C...</td>\n",
              "      <td>0.3788</td>\n",
              "      <td>89.4</td>\n",
              "      <td>115.34</td>\n",
              "      <td>71.0</td>\n",
              "      <td>-3331.0</td>\n",
              "      <td>0.041256</td>\n",
              "      <td>0.377895</td>\n",
              "      <td>0</td>\n",
              "    </tr>\n",
              "    <tr>\n",
              "      <th>1</th>\n",
              "      <td>100663.0</td>\n",
              "      <td>1052</td>\n",
              "      <td>University of Alabama at Birmingham</td>\n",
              "      <td>Public</td>\n",
              "      <td>1</td>\n",
              "      <td>1101</td>\n",
              "      <td>Computer and Information Sciences, General</td>\n",
              "      <td>3</td>\n",
              "      <td>Bachelor's Degree</td>\n",
              "      <td>36</td>\n",
              "      <td>27750</td>\n",
              "      <td>288</td>\n",
              "      <td>25889</td>\n",
              "      <td>34</td>\n",
              "      <td>34</td>\n",
              "      <td>56900</td>\n",
              "      <td>30.0</td>\n",
              "      <td>35.0</td>\n",
              "      <td>Birmingham</td>\n",
              "      <td>AL</td>\n",
              "      <td>35294-0110</td>\n",
              "      <td>13177.0</td>\n",
              "      <td>16454.0</td>\n",
              "      <td>Southern Association of Colleges and Schools C...</td>\n",
              "      <td>0.3788</td>\n",
              "      <td>89.4</td>\n",
              "      <td>115.34</td>\n",
              "      <td>71.0</td>\n",
              "      <td>27269.0</td>\n",
              "      <td>0.041256</td>\n",
              "      <td>0.500716</td>\n",
              "      <td>3</td>\n",
              "    </tr>\n",
              "    <tr>\n",
              "      <th>2</th>\n",
              "      <td>100663.0</td>\n",
              "      <td>1052</td>\n",
              "      <td>University of Alabama at Birmingham</td>\n",
              "      <td>Public</td>\n",
              "      <td>1</td>\n",
              "      <td>1304</td>\n",
              "      <td>Educational Administration and Supervision</td>\n",
              "      <td>5</td>\n",
              "      <td>Master's Degree</td>\n",
              "      <td>41</td>\n",
              "      <td>22601</td>\n",
              "      <td>263</td>\n",
              "      <td>25440</td>\n",
              "      <td>48</td>\n",
              "      <td>48</td>\n",
              "      <td>50500</td>\n",
              "      <td>58.0</td>\n",
              "      <td>11.0</td>\n",
              "      <td>Birmingham</td>\n",
              "      <td>AL</td>\n",
              "      <td>35294-0110</td>\n",
              "      <td>13177.0</td>\n",
              "      <td>16454.0</td>\n",
              "      <td>Southern Association of Colleges and Schools C...</td>\n",
              "      <td>0.3788</td>\n",
              "      <td>89.4</td>\n",
              "      <td>115.34</td>\n",
              "      <td>71.0</td>\n",
              "      <td>20869.0</td>\n",
              "      <td>0.041256</td>\n",
              "      <td>0.475028</td>\n",
              "      <td>3</td>\n",
              "    </tr>\n",
              "    <tr>\n",
              "      <th>3</th>\n",
              "      <td>100663.0</td>\n",
              "      <td>1052</td>\n",
              "      <td>University of Alabama at Birmingham</td>\n",
              "      <td>Public</td>\n",
              "      <td>1</td>\n",
              "      <td>1304</td>\n",
              "      <td>Educational Administration and Supervision</td>\n",
              "      <td>8</td>\n",
              "      <td>Graduate/Professional Certificate</td>\n",
              "      <td>22</td>\n",
              "      <td>57346</td>\n",
              "      <td>668</td>\n",
              "      <td>56814</td>\n",
              "      <td>22</td>\n",
              "      <td>22</td>\n",
              "      <td>57200</td>\n",
              "      <td>28.0</td>\n",
              "      <td>7.0</td>\n",
              "      <td>Birmingham</td>\n",
              "      <td>AL</td>\n",
              "      <td>35294-0110</td>\n",
              "      <td>13177.0</td>\n",
              "      <td>16454.0</td>\n",
              "      <td>Southern Association of Colleges and Schools C...</td>\n",
              "      <td>0.3788</td>\n",
              "      <td>89.4</td>\n",
              "      <td>115.34</td>\n",
              "      <td>71.0</td>\n",
              "      <td>27569.0</td>\n",
              "      <td>0.041256</td>\n",
              "      <td>0.501921</td>\n",
              "      <td>3</td>\n",
              "    </tr>\n",
              "    <tr>\n",
              "      <th>4</th>\n",
              "      <td>100663.0</td>\n",
              "      <td>1052</td>\n",
              "      <td>University of Alabama at Birmingham</td>\n",
              "      <td>Public</td>\n",
              "      <td>1</td>\n",
              "      <td>1310</td>\n",
              "      <td>Special Education and Teaching</td>\n",
              "      <td>5</td>\n",
              "      <td>Master's Degree</td>\n",
              "      <td>36</td>\n",
              "      <td>28218</td>\n",
              "      <td>329</td>\n",
              "      <td>28717</td>\n",
              "      <td>27</td>\n",
              "      <td>27</td>\n",
              "      <td>43700</td>\n",
              "      <td>29.0</td>\n",
              "      <td>28.0</td>\n",
              "      <td>Birmingham</td>\n",
              "      <td>AL</td>\n",
              "      <td>35294-0110</td>\n",
              "      <td>13177.0</td>\n",
              "      <td>16454.0</td>\n",
              "      <td>Southern Association of Colleges and Schools C...</td>\n",
              "      <td>0.3788</td>\n",
              "      <td>89.4</td>\n",
              "      <td>115.34</td>\n",
              "      <td>71.0</td>\n",
              "      <td>14069.0</td>\n",
              "      <td>0.041256</td>\n",
              "      <td>0.447735</td>\n",
              "      <td>0</td>\n",
              "    </tr>\n",
              "  </tbody>\n",
              "</table>\n",
              "</div>"
            ],
            "text/plain": [
              "     UNITID  OPEID6  ... financial_factor_scaled cluster number\n",
              "0  100663.0    1052  ...                0.377895              0\n",
              "1  100663.0    1052  ...                0.500716              3\n",
              "2  100663.0    1052  ...                0.475028              3\n",
              "3  100663.0    1052  ...                0.501921              3\n",
              "4  100663.0    1052  ...                0.447735              0\n",
              "\n",
              "[5 rows x 32 columns]"
            ]
          },
          "metadata": {
            "tags": []
          },
          "execution_count": 16
        }
      ]
    },
    {
      "cell_type": "code",
      "metadata": {
        "colab": {
          "base_uri": "https://localhost:8080/",
          "height": 194
        },
        "id": "-sj2MF7Ed9VC",
        "outputId": "f93b886f-9cc8-4e01-8c03-e964b59d3914"
      },
      "source": [
        "college_df.groupby('cluster number', as_index=False)['financial_factor_scaled'].count()"
      ],
      "execution_count": null,
      "outputs": [
        {
          "output_type": "execute_result",
          "data": {
            "text/html": [
              "<div>\n",
              "<style scoped>\n",
              "    .dataframe tbody tr th:only-of-type {\n",
              "        vertical-align: middle;\n",
              "    }\n",
              "\n",
              "    .dataframe tbody tr th {\n",
              "        vertical-align: top;\n",
              "    }\n",
              "\n",
              "    .dataframe thead th {\n",
              "        text-align: right;\n",
              "    }\n",
              "</style>\n",
              "<table border=\"1\" class=\"dataframe\">\n",
              "  <thead>\n",
              "    <tr style=\"text-align: right;\">\n",
              "      <th></th>\n",
              "      <th>cluster number</th>\n",
              "      <th>financial_factor_scaled</th>\n",
              "    </tr>\n",
              "  </thead>\n",
              "  <tbody>\n",
              "    <tr>\n",
              "      <th>0</th>\n",
              "      <td>0</td>\n",
              "      <td>1995</td>\n",
              "    </tr>\n",
              "    <tr>\n",
              "      <th>1</th>\n",
              "      <td>1</td>\n",
              "      <td>537</td>\n",
              "    </tr>\n",
              "    <tr>\n",
              "      <th>2</th>\n",
              "      <td>2</td>\n",
              "      <td>734</td>\n",
              "    </tr>\n",
              "    <tr>\n",
              "      <th>3</th>\n",
              "      <td>3</td>\n",
              "      <td>1406</td>\n",
              "    </tr>\n",
              "    <tr>\n",
              "      <th>4</th>\n",
              "      <td>4</td>\n",
              "      <td>187</td>\n",
              "    </tr>\n",
              "  </tbody>\n",
              "</table>\n",
              "</div>"
            ],
            "text/plain": [
              "   cluster number  financial_factor_scaled\n",
              "0               0                     1995\n",
              "1               1                      537\n",
              "2               2                      734\n",
              "3               3                     1406\n",
              "4               4                      187"
            ]
          },
          "metadata": {
            "tags": []
          },
          "execution_count": 17
        }
      ]
    },
    {
      "cell_type": "markdown",
      "metadata": {
        "id": "3_solbWhxgfc"
      },
      "source": [
        "Visuals are always easier to understand! Here is the graph of the clustered universities."
      ]
    },
    {
      "cell_type": "code",
      "metadata": {
        "colab": {
          "base_uri": "https://localhost:8080/",
          "height": 456
        },
        "id": "B54KjBaT8sCb",
        "outputId": "a4f5f89d-ff93-46bf-a2fd-931e49574006"
      },
      "source": [
        "sns.lmplot('financial_factor_scaled','cost_living_index_2020_scaled',\n",
        "           data=college_df,\n",
        "           fit_reg=False,\n",
        "           hue=\"cluster number\",\n",
        "           scatter_kws={\"marker\":\"D\",\"s\":100})\n",
        "\n",
        "\n",
        "plt.xlabel('Financial factor')\n",
        "plt.ylabel('Cost of living index')"
      ],
      "execution_count": null,
      "outputs": [
        {
          "output_type": "stream",
          "text": [
            "/usr/local/lib/python3.7/dist-packages/seaborn/_decorators.py:43: FutureWarning: Pass the following variables as keyword args: x, y. From version 0.12, the only valid positional argument will be `data`, and passing other arguments without an explicit keyword will result in an error or misinterpretation.\n",
            "  FutureWarning\n"
          ],
          "name": "stderr"
        },
        {
          "output_type": "execute_result",
          "data": {
            "text/plain": [
              "Text(14.669192708333334, 0.5, 'Cost of living index')"
            ]
          },
          "metadata": {
            "tags": []
          },
          "execution_count": 18
        },
        {
          "output_type": "display_data",
          "data": {
            "image/png": "[encoded data removed]",
            "text/plain": [
              "<Figure size 444.125x360 with 1 Axes>"
            ]
          },
          "metadata": {
            "tags": [],
            "needs_background": "light"
          }
        }
      ]
    },
    {
      "cell_type": "markdown",
      "metadata": {
        "id": "Po5lozQaxwnk"
      },
      "source": [
        "Conclusions from clustering:\n",
        "1. Universities in clusters are 2 and 3 are the best\n",
        "2. Universities in cluster 0 are the safe options after the best clusters\n",
        "3. Universities in clusters 1 and 4 are is not suggested and have financial risk involved"
      ]
    },
    {
      "cell_type": "markdown",
      "metadata": {
        "id": "yGkIuE-7yP6n"
      },
      "source": [
        "Now comes the task of suggesting universities. I will be taking dynamic inputs from the user. The user can choose their interested field of study, the level of the degree, and the amount of tuition fee he/she can afford."
      ]
    },
    {
      "cell_type": "code",
      "metadata": {
        "id": "N-2K7zyqf5AH",
        "colab": {
          "base_uri": "https://localhost:8080/"
        },
        "outputId": "d2eb1794-217c-43bb-f4c2-9b86f6cd49f0"
      },
      "source": [
        "#Displaying the list of courses\n",
        "\n",
        "college_df['CIPDESC'].sort_values().unique()"
      ],
      "execution_count": null,
      "outputs": [
        {
          "output_type": "execute_result",
          "data": {
            "text/plain": [
              "array(['Accounting and Related Services',\n",
              "       'Advanced/Graduate Dentistry and Oral Sciences',\n",
              "       'Aerospace, Aeronautical and Astronautical Engineering',\n",
              "       'Agricultural Business and Management', 'Agricultural Engineering',\n",
              "       'Agricultural Mechanization', 'Agricultural Production Operations',\n",
              "       'Agricultural Public Services',\n",
              "       'Agricultural and Food Products Processing',\n",
              "       'Agriculture, General', 'Air Transportation',\n",
              "       'Allied Health Diagnostic, Intervention, and Treatment Professions',\n",
              "       'Allied Health and Medical Assisting Services',\n",
              "       'American Sign Language', 'Animal Sciences', 'Anthropology',\n",
              "       'Apparel and Textiles',\n",
              "       'Applied Horticulture and Horticultural Business Services',\n",
              "       'Applied Mathematics', 'Architectural Engineering',\n",
              "       'Architectural Engineering Technologies/Technicians',\n",
              "       'Architectural Sciences and Technology', 'Architecture',\n",
              "       'Area Studies', 'Arts, Entertainment,and Media Management',\n",
              "       'Astronomy and Astrophysics',\n",
              "       'Atmospheric Sciences and Meteorology', 'Behavioral Sciences',\n",
              "       'Biochemical Engineering',\n",
              "       'Biochemistry, Biophysics and Molecular Biology',\n",
              "       'Bioethics/Medical Ethics',\n",
              "       'Biological and Biomedical Sciences, Other',\n",
              "       'Biological and Physical Sciences',\n",
              "       'Biological/Biosystems Engineering', 'Biology, General',\n",
              "       'Biomathematics, Bioinformatics, and Computational Biology',\n",
              "       'Biomedical/Medical Engineering', 'Biopsychology', 'Biotechnology',\n",
              "       'Business Administration, Management and Operations',\n",
              "       'Business Operations Support and Assistant Services',\n",
              "       'Business, Management, Marketing, and Related Support Services, Other',\n",
              "       'Business/Commerce, General', 'Business/Corporate Communications',\n",
              "       'Business/Managerial Economics',\n",
              "       'Cell/Cellular Biology and Anatomical Sciences',\n",
              "       'Chemical Engineering', 'Chemistry',\n",
              "       'City/Urban, Community and Regional Planning', 'Civil Engineering',\n",
              "       'Civil Engineering Technologies/Technicians',\n",
              "       'Clinical, Counseling and Applied Psychology',\n",
              "       'Clinical/Medical Laboratory Science/Research and Allied Professions',\n",
              "       'Cognitive Science',\n",
              "       'Communication Disorders Sciences and Services',\n",
              "       'Communication and Media Studies',\n",
              "       'Communication, Journalism, and Related Programs, Other',\n",
              "       'Community Organization and Advocacy', 'Computer Engineering',\n",
              "       'Computer Engineering Technologies/Technicians',\n",
              "       'Computer Science', 'Computer Software and Media Applications',\n",
              "       'Computer Systems Analysis',\n",
              "       'Computer Systems Networking and Telecommunications',\n",
              "       'Computer and Information Sciences and Support Services, Other',\n",
              "       'Computer and Information Sciences, General',\n",
              "       'Computer/Information Technology Administration and Management',\n",
              "       'Construction Engineering',\n",
              "       'Construction Engineering Technologies', 'Construction Management',\n",
              "       'Crafts/Craft Design, Folk Art and Artisanry',\n",
              "       'Criminal Justice and Corrections', 'Criminology',\n",
              "       'Curriculum and Instruction', 'Dance',\n",
              "       'Dental Support Services and Allied Professions', 'Dentistry',\n",
              "       'Design and Applied Arts',\n",
              "       'Dietetics and Clinical Nutrition Services', 'Dispute Resolution',\n",
              "       'Drafting/Design Engineering Technologies/Technicians',\n",
              "       'Drama/Theatre Arts and Stagecraft',\n",
              "       'East Asian Languages, Literatures, and Linguistics',\n",
              "       'Ecology, Evolution, Systematics, and Population Biology',\n",
              "       'Economics', 'Education, General', 'Education, Other',\n",
              "       'Educational Administration and Supervision',\n",
              "       'Educational/Instructional Media Design',\n",
              "       'Electrical Engineering Technologies/Technicians',\n",
              "       'Electrical, Electronics and Communications Engineering',\n",
              "       'Electromechanical Instrumentation and Maintenance Technologies/Technicians',\n",
              "       'Engineering Mechanics', 'Engineering Physics',\n",
              "       'Engineering Science',\n",
              "       'Engineering Technologies/Technicians, Other',\n",
              "       'Engineering Technology, General', 'Engineering, General',\n",
              "       'Engineering, Other', 'Engineering-Related Fields',\n",
              "       'English Language and Literature, General',\n",
              "       'Entrepreneurial and Small Business Operations',\n",
              "       'Environmental Design',\n",
              "       'Environmental/Environmental Health Engineering',\n",
              "       'Ethnic, Cultural Minority, Gender, and Group Studies',\n",
              "       'Family and Consumer Economics and Related Studies',\n",
              "       'Family and Consumer Sciences/Human Sciences Business Services',\n",
              "       'Family and Consumer Sciences/Human Sciences, General',\n",
              "       'Film/Video and Photographic Arts',\n",
              "       'Finance and Financial Management Services',\n",
              "       'Fine and Studio Arts',\n",
              "       'Fishing and Fisheries Sciences and Management',\n",
              "       'Food Science and Technology',\n",
              "       'Foods, Nutrition, and Related Services', 'Forest Engineering',\n",
              "       'Forestry',\n",
              "       'General Sales, Merchandising and Related Marketing Operations',\n",
              "       'Genetics', 'Geography and Cartography',\n",
              "       'Geological and Earth Sciences/Geosciences',\n",
              "       'Geological/Geophysical Engineering',\n",
              "       'Germanic Languages, Literatures, and Linguistics', 'Gerontology',\n",
              "       'Graphic Communications',\n",
              "       'Health Professions and Related Clinical Sciences, Other',\n",
              "       'Health Services/Allied Health/Health Sciences, General',\n",
              "       'Health and Medical Administrative Services',\n",
              "       'Health and Physical Education/Fitness',\n",
              "       'Health/Medical Preparatory Programs',\n",
              "       'Historic Preservation and Conservation', 'History',\n",
              "       'Homeland Security',\n",
              "       'Homeland Security, Law Enforcement, Firefighting and Related Protective Services, Other',\n",
              "       'Hospitality Administration/Management', 'Human Biology',\n",
              "       'Human Development, Family Studies, and Related Services',\n",
              "       'Human Resources Management and Services',\n",
              "       'Human Services, General', 'Industrial Engineering',\n",
              "       'Industrial Production Technologies/Technicians',\n",
              "       'Information Science/Studies', 'Insurance',\n",
              "       'Interior Architecture', 'International Agriculture',\n",
              "       'International Business',\n",
              "       'International Relations and National Security Studies',\n",
              "       'International and Comparative Education',\n",
              "       'International/Global Studies', 'Journalism',\n",
              "       'Landscape Architecture', 'Law',\n",
              "       'Legal Professions and Studies, Other',\n",
              "       'Legal Research and Advanced Professional Studies',\n",
              "       'Legal Support Services',\n",
              "       'Liberal Arts and Sciences, General Studies and Humanities',\n",
              "       'Library Science and Administration',\n",
              "       'Linguistic, Comparative, and Related Language Studies and Services',\n",
              "       'Management Information Systems and Services',\n",
              "       'Management Sciences and Quantitative Methods', 'Marketing',\n",
              "       'Materials Engineerin', 'Materials Sciences', 'Mathematics',\n",
              "       'Mathematics and Computer Science',\n",
              "       'Mathematics and Statistics, Other', 'Mechanical Engineering',\n",
              "       'Mechanical Engineering Related Technologies/Technicians',\n",
              "       'Medical Illustration and Informatics', 'Medicine',\n",
              "       'Mental and Social Health Services and Allied Professions',\n",
              "       'Metallurgical Engineering',\n",
              "       'Microbiological Sciences and Immunology',\n",
              "       'Mining and Mineral Engineering',\n",
              "       'Multi-/Interdisciplinary Studies, General',\n",
              "       'Multi/Interdisciplinary Studies, Other',\n",
              "       'Museology/Museum Studies', 'Music',\n",
              "       'Natural Resources Conservation and Research',\n",
              "       'Natural Resources Management and Policy', 'Natural Sciences',\n",
              "       'Neurobiology and Neurosciences',\n",
              "       'Non-Professional General Legal Studies (Undergraduate)',\n",
              "       'Nuclear Engineering', 'Nutrition Sciences', 'Operations Research',\n",
              "       'Optometry', 'Osteopathic Medicine/Osteopathy',\n",
              "       'Parks, Recreation and Leisure Facilities Management',\n",
              "       'Parks, Recreation and Leisure Studies',\n",
              "       'Pastoral Counseling and Specialized Ministries',\n",
              "       'Peace Studies and Conflict Resolution', 'Petroleum Engineering',\n",
              "       'Pharmacology and Toxicology',\n",
              "       'Pharmacy, Pharmaceutical Sciences, and Administration',\n",
              "       'Philosophy', 'Physics',\n",
              "       'Physiology, Pathology and Related Sciences', 'Plant Sciences',\n",
              "       'Podiatric Medicine/Podiatry', 'Political Science and Government',\n",
              "       'Psychology, General', 'Psychology, Other',\n",
              "       'Public Administration',\n",
              "       'Public Administration and Social Service Professions, Other',\n",
              "       'Public Health', 'Public Policy Analysis',\n",
              "       'Public Relations, Advertising, and Applied Communication',\n",
              "       'Publishing', 'Radio, Television, and Digital Communication',\n",
              "       'Real Estate', 'Real Estate Development',\n",
              "       'Registered Nursing, Nursing Administration, Nursing Research and Clinical Nursing',\n",
              "       'Rehabilitation and Therapeutic Professions',\n",
              "       'Religion/Religious Studies',\n",
              "       'Research and Experimental Psychology',\n",
              "       'Rhetoric and Composition/Writing Studies',\n",
              "       'Romance Languages, Literatures, and Linguistics',\n",
              "       'Science Technologies/Technicians, Other',\n",
              "       'Science, Technology and Society', 'Social Sciences, General',\n",
              "       'Social Sciences, Other', 'Social Work',\n",
              "       'Social and Philosophical Foundations of Education', 'Sociology',\n",
              "       'Soil Sciences', 'Special Education and Teaching',\n",
              "       'Specialized Sales, Merchandising and  Marketing Operations',\n",
              "       'Statistics', 'Student Counseling and Personnel Services',\n",
              "       'Sustainability Studies', 'Systems Engineering',\n",
              "       'Systems Science and Theory', 'Taxation',\n",
              "       'Teacher Education and Professional Development, Specific Levels and Methods',\n",
              "       'Teacher Education and Professional Development, Specific Subject Areas',\n",
              "       'Teaching English or French as a Second or Foreign Language',\n",
              "       'Theological and Ministerial Studies',\n",
              "       'Theology and Religious Vocations, Other', 'Urban Studies/Affairs',\n",
              "       'Vehicle Maintenance and Repair Technologies',\n",
              "       'Veterinary Biomedical and Clinical Sciences',\n",
              "       'Veterinary Medicine', 'Visual and Performing Arts, General',\n",
              "       'Visual and Performing Arts, Other',\n",
              "       'Wildlife and Wildlands Science and Management',\n",
              "       'Zoology/Animal Biology'], dtype=object)"
            ]
          },
          "metadata": {
            "tags": []
          },
          "execution_count": 19
        }
      ]
    },
    {
      "cell_type": "code",
      "metadata": {
        "colab": {
          "base_uri": "https://localhost:8080/"
        },
        "id": "IHOY8Rhn6LdF",
        "outputId": "8741ef0d-4fb3-45e7-90c5-1ae7045dd66a"
      },
      "source": [
        "course=input(\"Enter your preferred course from the above list: \")"
      ],
      "execution_count": null,
      "outputs": [
        {
          "output_type": "stream",
          "text": [
            "Enter your preferred course from the above list: Computer Science\n"
          ],
          "name": "stdout"
        }
      ]
    },
    {
      "cell_type": "code",
      "metadata": {
        "colab": {
          "base_uri": "https://localhost:8080/"
        },
        "id": "i273SeVpGF6u",
        "outputId": "f74ee8d7-03a7-49ae-9c4c-c9e9d48fb688"
      },
      "source": [
        "college_df['CREDDESC'].unique()"
      ],
      "execution_count": null,
      "outputs": [
        {
          "output_type": "execute_result",
          "data": {
            "text/plain": [
              "array([\"Bachelor's Degree\", \"Master's Degree\",\n",
              "       'Graduate/Professional Certificate', 'First Professional Degree',\n",
              "       \"Associate's Degree\", 'Undergraduate Certificate or Diploma',\n",
              "       'Doctoral Degree'], dtype=object)"
            ]
          },
          "metadata": {
            "tags": []
          },
          "execution_count": 76
        }
      ]
    },
    {
      "cell_type": "code",
      "metadata": {
        "colab": {
          "base_uri": "https://localhost:8080/"
        },
        "id": "RluOiQo1FrB_",
        "outputId": "666fca86-0f96-41a2-fb5a-c1c8d4189576"
      },
      "source": [
        "course_level=input(\"Enter your course level from the above list: \")"
      ],
      "execution_count": null,
      "outputs": [
        {
          "output_type": "stream",
          "text": [
            "Enter your course level from the above list: Bachelor's Degree\n"
          ],
          "name": "stdout"
        }
      ]
    },
    {
      "cell_type": "code",
      "metadata": {
        "id": "UUSuIDUaqaur",
        "colab": {
          "base_uri": "https://localhost:8080/"
        },
        "outputId": "b9eafb39-ccea-4551-c54e-0e4597892c1b"
      },
      "source": [
        "loan_amount=input(\"Enter the affordable loan amount/tuition fee per semester: \")"
      ],
      "execution_count": null,
      "outputs": [
        {
          "output_type": "stream",
          "text": [
            "Enter the affordable loan amount/tuition fee per year: 10000\n"
          ],
          "name": "stdout"
        }
      ]
    },
    {
      "cell_type": "code",
      "metadata": {
        "id": "vy68P0c5tnri"
      },
      "source": [
        "loan_amount=int(loan_amount)"
      ],
      "execution_count": null,
      "outputs": []
    },
    {
      "cell_type": "markdown",
      "metadata": {
        "id": "P4-2desq0Pvi"
      },
      "source": [
        "Defining functions to display the above-discussed categories of universities."
      ]
    },
    {
      "cell_type": "code",
      "metadata": {
        "id": "iYL_xuniddWN"
      },
      "source": [
        " def best_universities(course,course_level,loan_amount):\n",
        "   return college_df[(college_df['CIPDESC']==course) & \n",
        "           (college_df['CREDDESC']==course_level) &\n",
        "           ((college_df['cluster number']==2)| (college_df['cluster number']==3)) &\n",
        "           ((college_df['TUITFTE']<=loan_amount+5000) & (college_df['TUITFTE']>=loan_amount-5000))]['INSTNM']"
      ],
      "execution_count": null,
      "outputs": []
    },
    {
      "cell_type": "code",
      "metadata": {
        "id": "oB6a0Z3DuRpu"
      },
      "source": [
        " def second_choice(course,course_level,loan_amount):\n",
        "   return college_df[(college_df['CIPDESC']==course) & \n",
        "           (college_df['CREDDESC']==course_level) &\n",
        "           (college_df['cluster number']==1) &\n",
        "           ((college_df['TUITFTE']<=loan_amount+5000) & (college_df['TUITFTE']>=loan_amount-5000))]['INSTNM']"
      ],
      "execution_count": null,
      "outputs": []
    },
    {
      "cell_type": "code",
      "metadata": {
        "id": "67cUk4_8uomE"
      },
      "source": [
        " def last_options(course,course_level,loan_amount):\n",
        "   return college_df[(college_df['CIPDESC']==course) & \n",
        "           (college_df['CREDDESC']==course_level) &\n",
        "           ((college_df['cluster number']==0)| (college_df['cluster number']==4)) &\n",
        "           ((college_df['TUITFTE']<=loan_amount+5000) & (college_df['TUITFTE']>=loan_amount-5000))]['INSTNM']"
      ],
      "execution_count": null,
      "outputs": []
    },
    {
      "cell_type": "markdown",
      "metadata": {
        "id": "ULaFUu2pvlhQ"
      },
      "source": [
        "Below displayed is the list of suggested universities according to the given inputs. The loan amount is ranged from + or - $5000 of the entered amount. "
      ]
    },
    {
      "cell_type": "code",
      "metadata": {
        "id": "Q5wzqusvrG8_",
        "colab": {
          "base_uri": "https://localhost:8080/"
        },
        "outputId": "d06b181a-8f05-42ac-dfd0-b743e6aa7b0d"
      },
      "source": [
        "#The best universities\n",
        "\n",
        "best_universities(course,course_level,loan_amount)"
      ],
      "execution_count": null,
      "outputs": [
        {
          "output_type": "execute_result",
          "data": {
            "text/plain": [
              "110                    University of South Alabama\n",
              "239                    Northern Arizona University\n",
              "323                     San Diego State University\n",
              "365                 San Francisco State University\n",
              "714                      University of Connecticut\n",
              "1618                      Georgia State University\n",
              "1689                         University of Georgia\n",
              "1815                           University of Idaho\n",
              "1872             University of Illinois at Chicago\n",
              "1970                  Northern Illinois University\n",
              "2228                         University of Memphis\n",
              "2361                         Iowa State University\n",
              "2493                      East Carolina University\n",
              "2598     University of North Carolina at Charlotte\n",
              "2650    University of North Carolina at Greensboro\n",
              "2865                     University of New Orleans\n",
              "3024             Michigan Technological University\n",
              "3135                   Western Michigan University\n",
              "3418                       George Mason University\n",
              "3928                            University of Utah\n",
              "4209                         Binghamton University\n",
              "4607                       Oregon State University\n",
              "4709                     Portland State University\n",
              "4769                      West Virginia University\n",
              "4832                         University of Wyoming\n",
              "Name: INSTNM, dtype: object"
            ]
          },
          "metadata": {
            "tags": []
          },
          "execution_count": 93
        }
      ]
    },
    {
      "cell_type": "code",
      "metadata": {
        "colab": {
          "base_uri": "https://localhost:8080/"
        },
        "id": "dsrnvHdNulNk",
        "outputId": "3ea23a79-08c7-4175-8eb9-6d44c43bc746"
      },
      "source": [
        "#The safe options\n",
        "\n",
        "second_choice(course,course_level,loan_amount)"
      ],
      "execution_count": null,
      "outputs": [
        {
          "output_type": "execute_result",
          "data": {
            "text/plain": [
              "Series([], Name: INSTNM, dtype: object)"
            ]
          },
          "metadata": {
            "tags": []
          },
          "execution_count": 94
        }
      ]
    },
    {
      "cell_type": "code",
      "metadata": {
        "colab": {
          "base_uri": "https://localhost:8080/"
        },
        "id": "XgXIzvKMuz2U",
        "outputId": "114c9dd8-f00a-4565-e599-19473fc798f6"
      },
      "source": [
        "#Financially risky options\n",
        "\n",
        "last_options(course,course_level,loan_amount)"
      ],
      "execution_count": null,
      "outputs": [
        {
          "output_type": "execute_result",
          "data": {
            "text/plain": [
              "1763    University of Hawaii at Manoa\n",
              "Name: INSTNM, dtype: object"
            ]
          },
          "metadata": {
            "tags": []
          },
          "execution_count": 95
        }
      ]
    }
  ]
}